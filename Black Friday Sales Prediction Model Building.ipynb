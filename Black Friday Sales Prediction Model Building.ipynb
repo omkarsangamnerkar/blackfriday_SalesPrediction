{
 "cells": [
  {
   "cell_type": "code",
   "execution_count": 7,
   "metadata": {},
   "outputs": [],
   "source": [
    "import pandas as pd\n",
    "import numpy as np\n",
    "import matplotlib.pyplot as plt\n",
    "import seaborn as sns\n",
    "sns.set(style='dark')\n",
    "\n",
    "from sklearn.model_selection import train_test_split\n",
    "from sklearn.linear_model import LinearRegression\n",
    "from sklearn.tree import DecisionTreeRegressor\n",
    "from sklearn.ensemble import RandomForestRegressor\n",
    "from lightgbm import LGBMRegressor\n",
    "from xgboost import XGBRegressor\n",
    "from catboost import CatBoostRegressor\n",
    "\n",
    "from sklearn.model_selection import StratifiedKFold, KFold\n",
    "from sklearn.preprocessing import StandardScaler, LabelEncoder\n",
    "\n",
    "from sklearn.metrics import mean_squared_error, mean_absolute_error"
   ]
  },
  {
   "cell_type": "code",
   "execution_count": 8,
   "metadata": {},
   "outputs": [],
   "source": [
    "train = pd.read_csv(r\"D:\\Data Science\\Projects\\Analytics vidya\\Black Friday Sales Prediction\\train.csv\")\n",
    "test = pd.read_csv(r\"D:\\Data Science\\Projects\\Analytics vidya\\Black Friday Sales Prediction\\test.csv\")\n",
    "sample_sub = pd.read_csv(r\"D:\\Data Science\\Projects\\Analytics vidya\\Black Friday Sales Prediction\\sample_submission_V9Inaty.csv\")"
   ]
  },
  {
   "cell_type": "markdown",
   "metadata": {},
   "source": [
    "Steps to make baseline Regression Model\n",
    "\n",
    "1. Concatenate/Join the train and test Datasets. All kinds of processing must be performed on both train and test datasets together.\n",
    "\n",
    "2. Convert all Categorical Variables to numbers. We will be use OneHot Encoding for this. \n",
    "\n",
    "3. Fill Null Values. This can be followed by other data processing and feature engineering steps, but we will go into it later.\n",
    "\n",
    "4. Split the dataset back into train and test datasets.\n",
    "\n",
    "5. Split the train set into train and validation sets.\n",
    "\n",
    "6. Fit a regression Model on train, check its results on validation set.\n",
    "\n",
    "7. Predict for the test set.\n",
    "\n",
    "8.  Save the submission as a csv file and submit the model on AV."
   ]
  },
  {
   "cell_type": "markdown",
   "metadata": {},
   "source": [
    "---\n",
    "### 1. Concating Train and Test Set"
   ]
  },
  {
   "cell_type": "code",
   "execution_count": 9,
   "metadata": {},
   "outputs": [
    {
     "data": {
      "text/plain": [
       "(783667, 12)"
      ]
     },
     "execution_count": 9,
     "metadata": {},
     "output_type": "execute_result"
    }
   ],
   "source": [
    "df = pd.concat([train, test], axis = 0).reset_index(drop=True)\n",
    "df.shape"
   ]
  },
  {
   "cell_type": "markdown",
   "metadata": {},
   "source": [
    "---\n",
    "### 2. Missing Value Imputation"
   ]
  },
  {
   "cell_type": "code",
   "execution_count": 10,
   "metadata": {},
   "outputs": [
    {
     "data": {
      "text/plain": [
       "0"
      ]
     },
     "execution_count": 10,
     "metadata": {},
     "output_type": "execute_result"
    }
   ],
   "source": [
    "df = df.fillna(-999.0)\n",
    "df.isnull().sum().sum()"
   ]
  },
  {
   "cell_type": "markdown",
   "metadata": {},
   "source": [
    "### 3. Convert all categorical columns to number"
   ]
  },
  {
   "cell_type": "code",
   "execution_count": 11,
   "metadata": {},
   "outputs": [],
   "source": [
    "df['Gender'].replace( { 'M' : 1, 'F' : 0}, inplace=True)\n",
    "df['Age'].replace( {'0-17': 0, '18-25':1, '26-35':2, '36-45': 3, '46-50': 4, '51-55': 5, '55+': 6}, inplace=True)\n",
    "df['Stay_In_Current_City_Years'].replace( {'0': 0, '1': 1, '2': 2, '3': 3, '4+': 4}, inplace=True)"
   ]
  },
  {
   "cell_type": "markdown",
   "metadata": {},
   "source": [
    "##### Convering User_ID and Product_ID"
   ]
  },
  {
   "cell_type": "code",
   "execution_count": 12,
   "metadata": {},
   "outputs": [],
   "source": [
    "le = LabelEncoder()\n",
    "scaler = StandardScaler()\n",
    "##### User_ID\n",
    "df['User_ID'] = df['User_ID'] - 1000000\n",
    "df['User_ID'] = le.fit_transform(df['User_ID'])\n",
    "\n",
    "##### Product_ID\n",
    "df['Product_ID'] = df['Product_ID'].str.replace('P00', '')\n",
    "df['Product_ID'] = le.fit_transform(df['Product_ID'])\n",
    "\n",
    "##### City Category\n",
    "df['City_Category'] = le.fit_transform(df['City_Category'])"
   ]
  },
  {
   "cell_type": "code",
   "execution_count": 13,
   "metadata": {},
   "outputs": [],
   "source": [
    "#dummy_cols = ['Occupation', 'City_Category', 'Product_Category_1', 'Product_Category_2','Product_Category_3']\n",
    "#df = pd.get_dummies(df, columns=dummy_cols, drop_first=True)"
   ]
  },
  {
   "cell_type": "code",
   "execution_count": 14,
   "metadata": {},
   "outputs": [],
   "source": [
    "# Changing Datatype\n",
    "\n",
    "df['User_ID'] = df['User_ID'].astype('int16')\n",
    "df['Product_ID'] = df['Product_ID'].astype('int16')\n",
    "df['Gender'] = df['Gender'].astype('uint8')\n",
    "df['Age'] = df['Age'].astype('uint8')\n",
    "df['Stay_In_Current_City_Years'] = df['Stay_In_Current_City_Years'].astype('uint8')\n",
    "df['Marital_Status'] = df['Marital_Status'].astype('uint8')\n",
    "df['Product_Category_1'] = df['Product_Category_1'].astype('int8')\n",
    "df['Product_Category_2'] = df['Product_Category_2'].astype('int16')\n",
    "df['Product_Category_3'] = df['Product_Category_3'].astype('int16')\n",
    "df['Occupation'] = df['Product_Category_3'].astype('int8')\n",
    "\n",
    "\n",
    "\n",
    "df['Purchase'] = df[\"Purchase\"].astype('int32')"
   ]
  },
  {
   "cell_type": "markdown",
   "metadata": {},
   "source": [
    "---\n",
    "## 4. Split the processed dataset back into train and test datasets"
   ]
  },
  {
   "cell_type": "code",
   "execution_count": 15,
   "metadata": {},
   "outputs": [],
   "source": [
    "train_proc, test_proc = df[:train.shape[0]], df[train.shape[0]:].reset_index(drop = True)"
   ]
  },
  {
   "cell_type": "code",
   "execution_count": 16,
   "metadata": {},
   "outputs": [],
   "source": [
    "target = 'Purchase'\n",
    "\n",
    "features = [col for col in train_proc.columns if col not in [target]]"
   ]
  },
  {
   "cell_type": "markdown",
   "metadata": {},
   "source": [
    "---\n",
    "## 5. Split the Train Set into Validation Set"
   ]
  },
  {
   "cell_type": "code",
   "execution_count": 17,
   "metadata": {},
   "outputs": [],
   "source": [
    "trn, val = train_test_split(train_proc, test_size = 0.2, random_state = 1999)\n",
    "\n",
    "##### Input for model\n",
    "X_trn, X_val = trn[features], val[features]\n",
    "\n",
    "##### Target column\n",
    "y_trn, y_val = trn[target], val[target]\n",
    "\n",
    "##### Features for test data that we will be predicting\n",
    "X_test = test_proc[features]"
   ]
  },
  {
   "cell_type": "markdown",
   "metadata": {},
   "source": [
    "---\n",
    "## 6. Fit a Regression Model on train, check its result on validation set\n",
    "\n",
    "#### 1. Linear Regression"
   ]
  },
  {
   "cell_type": "code",
   "execution_count": 18,
   "metadata": {},
   "outputs": [
    {
     "name": "stdout",
     "output_type": "stream",
     "text": [
      "RMSE score is: 4587.3615494652795\n",
      "Wall time: 221 ms\n"
     ]
    }
   ],
   "source": [
    "%%time\n",
    "lr = LinearRegression()\n",
    "\n",
    "lr.fit(X_trn, y_trn)\n",
    "\n",
    "preds = lr.predict(X_val)\n",
    "\n",
    "rmse = np.sqrt(mean_squared_error(y_val, preds))\n",
    "\n",
    "print(f'RMSE score is: {rmse}')"
   ]
  },
  {
   "cell_type": "code",
   "execution_count": 14,
   "metadata": {},
   "outputs": [],
   "source": [
    "test_preds = lr.predict(X_test)\n",
    "\n",
    "sample_sub['Purchase'] = test_preds\n",
    "sample_sub.to_csv(r\"D:\\Data Science\\Projects\\Analytics vidya\\Black Friday Sales Prediction\\Regression_preds.csv\", index = False)"
   ]
  },
  {
   "cell_type": "markdown",
   "metadata": {},
   "source": [
    "#### 2. Decision Tree "
   ]
  },
  {
   "cell_type": "code",
   "execution_count": 19,
   "metadata": {},
   "outputs": [
    {
     "name": "stdout",
     "output_type": "stream",
     "text": [
      "RMSE score is: 2838.627137564156\n",
      "Wall time: 924 ms\n"
     ]
    }
   ],
   "source": [
    "%%time\n",
    "dt = DecisionTreeRegressor(random_state = 1999, max_depth = 20, max_features = 0.9, max_leaf_nodes = 150)\n",
    "\n",
    "dt.fit(X_trn, y_trn)\n",
    "\n",
    "preds = dt.predict(X_val)\n",
    "\n",
    "rmse = np.sqrt(mean_squared_error(y_val, preds))\n",
    "\n",
    "print(f'RMSE score is: {rmse}')"
   ]
  },
  {
   "cell_type": "code",
   "execution_count": 15,
   "metadata": {},
   "outputs": [],
   "source": [
    "test_preds = dt.predict(X_test)\n",
    "\n",
    "sample_sub['Purchase'] = test_preds\n",
    "sample_sub.to_csv(r\"D:\\Data Science\\Projects\\Analytics vidya\\Black Friday Sales Prediction\\Regression_preds.csv\", index = False)"
   ]
  },
  {
   "cell_type": "markdown",
   "metadata": {},
   "source": [
    "#### 3. Random Forest"
   ]
  },
  {
   "cell_type": "code",
   "execution_count": 333,
   "metadata": {},
   "outputs": [
    {
     "name": "stdout",
     "output_type": "stream",
     "text": [
      "RMSE score is: 2845.3649194844456\n",
      "Wall time: 13min 15s\n"
     ]
    }
   ],
   "source": [
    "%%time\n",
    "rf = RandomForestRegressor(max_depth = 20, max_features = 0.9, max_leaf_nodes = 150, n_estimators = 300)\n",
    "\n",
    "rf.fit(X_trn, y_trn)\n",
    "\n",
    "preds = rf.predict(X_val)\n",
    "\n",
    "rmse = np.sqrt(mean_squared_error(y_val, preds))\n",
    "\n",
    "print(f'RMSE score is: {rmse}')"
   ]
  },
  {
   "cell_type": "code",
   "execution_count": 17,
   "metadata": {},
   "outputs": [],
   "source": [
    "test_preds = model.predict(X_test)\n",
    "\n",
    "sample_sub['Purchase'] = test_preds\n",
    "sample_sub.to_csv(r\"D:\\Data Science\\Projects\\Analytics vidya\\Black Friday Sales Prediction\\Regression_preds.csv\", index = False)"
   ]
  },
  {
   "cell_type": "markdown",
   "metadata": {},
   "source": [
    "---\n",
    "# Setting Validation Strategy"
   ]
  },
  {
   "cell_type": "markdown",
   "metadata": {},
   "source": [
    "## Stratified Cross Validation"
   ]
  },
  {
   "cell_type": "code",
   "execution_count": 20,
   "metadata": {},
   "outputs": [],
   "source": [
    "def cross_val(regressor, train, test, features):\n",
    "    N_splits = 5\n",
    "    \n",
    "    oofs = np.zeros(len(train))\n",
    "    preds = np.zeros(len(test))\n",
    "    \n",
    "    target_col = train[target]\n",
    "    \n",
    "    folds = StratifiedKFold(n_splits = N_splits, shuffle = True)\n",
    "    stratified_target = pd.qcut( train[target], 10, labels = False, duplicates = 'drop')\n",
    "    \n",
    "    for index, (trn_idx, val_idx) in enumerate(folds.split(train, stratified_target)):\n",
    "        print(f'\\n=========================Fold{index+1}============================')\n",
    "        \n",
    "        ####### Getting Train, Validation and Test sets.\n",
    "        \n",
    "        ## Training Set\n",
    "        X_trn, y_trn = train[features].iloc[trn_idx], target_col.iloc[trn_idx]\n",
    "        \n",
    "        ## Validation Set\n",
    "        X_val, y_val = train[features].iloc[val_idx], target_col.iloc[val_idx]\n",
    "        \n",
    "        ## Test Set\n",
    "        X_test = test[features]\n",
    "        \n",
    "        ###### Scaling Data ######\n",
    "        scaler = StandardScaler()\n",
    "        _ = scaler.fit(X_trn)\n",
    "        \n",
    "        X_trn = scaler.transform(X_trn)\n",
    "        X_val = scaler.transform(X_val)\n",
    "        X_test = scaler.transform(X_test)\n",
    "        \n",
    "        \n",
    "        ############ Fitting And Predicting #############\n",
    "        _ = regressor.fit(X_trn, y_trn)\n",
    "        \n",
    "        ## Predicting\n",
    "        val_preds = regressor.predict(X_val)\n",
    "        test_preds = regressor.predict(X_test)\n",
    "        \n",
    "        fold_score = np.sqrt( mean_squared_error(y_val, val_preds))\n",
    "        print(f'\\n RMSE score for Validation set is : {fold_score}')\n",
    "        \n",
    "        oofs[val_idx] = val_preds\n",
    "        preds += test_preds / N_splits\n",
    "        \n",
    "    oofs_score = np.sqrt( mean_squared_error(target_col, oofs))\n",
    "    print(f'\\n\\nRMSE score for oofs is {oofs_score}')\n",
    "    \n",
    "    return oofs, preds"
   ]
  },
  {
   "cell_type": "markdown",
   "metadata": {},
   "source": [
    "# Predicting With Cross Validation\n",
    "\n",
    "### 1. Linear Regression"
   ]
  },
  {
   "cell_type": "code",
   "execution_count": 323,
   "metadata": {
    "collapsed": true
   },
   "outputs": [
    {
     "name": "stdout",
     "output_type": "stream",
     "text": [
      "\n",
      "=========================Fold1============================\n",
      "\n",
      " RMSE score for Validation set is : 2984.4625149227513\n",
      "\n",
      "=========================Fold2============================\n",
      "\n",
      " RMSE score for Validation set is : 2969.04937780939\n",
      "\n",
      "=========================Fold3============================\n",
      "\n",
      " RMSE score for Validation set is : 2991.5212663954994\n",
      "\n",
      "=========================Fold4============================\n",
      "\n",
      " RMSE score for Validation set is : 2971.9790028093817\n",
      "\n",
      "=========================Fold5============================\n",
      "\n",
      " RMSE score for Validation set is : 2967.118164146688\n",
      "\n",
      "\n",
      "RMSE score for oofs is 2976.8412916897996\n",
      "Wall time: 16.7 s\n"
     ]
    }
   ],
   "source": [
    "%%time\n",
    "lr_oofs, lr_preds = cross_val(lr, train_proc, test_proc, features)"
   ]
  },
  {
   "cell_type": "code",
   "execution_count": 211,
   "metadata": {},
   "outputs": [],
   "source": [
    "sample_sub['Purchase'] = lr_preds\n",
    "sample_sub.to_csv(r\"D:\\Data Science\\Projects\\Analytics vidya\\Black Friday Sales Prediction\\Cross_val_preds.csv\", index = False)"
   ]
  },
  {
   "cell_type": "markdown",
   "metadata": {},
   "source": [
    "### 2. Decision Tree"
   ]
  },
  {
   "cell_type": "code",
   "execution_count": 308,
   "metadata": {
    "collapsed": true
   },
   "outputs": [
    {
     "name": "stdout",
     "output_type": "stream",
     "text": [
      "\n",
      "=========================Fold1============================\n",
      "\n",
      " RMSE score for Validation set is : 2883.6140013696963\n",
      "\n",
      "=========================Fold2============================\n",
      "\n",
      " RMSE score for Validation set is : 2873.212989849003\n",
      "\n",
      "=========================Fold3============================\n",
      "\n",
      " RMSE score for Validation set is : 2879.477351180446\n",
      "\n",
      "=========================Fold4============================\n",
      "\n",
      " RMSE score for Validation set is : 2889.54086908081\n",
      "\n",
      "=========================Fold5============================\n",
      "\n",
      " RMSE score for Validation set is : 2871.8953695104306\n",
      "\n",
      "\n",
      "RMSE score for oofs is 2879.555581482756\n",
      "Wall time: 30.4 s\n"
     ]
    }
   ],
   "source": [
    "%%time\n",
    "dt_oofs, dt_preds = cross_val(dt, train_proc, test_proc, features)"
   ]
  },
  {
   "cell_type": "code",
   "execution_count": 90,
   "metadata": {},
   "outputs": [],
   "source": [
    "sample_sub['Purchase'] = dt_preds\n",
    "sample_sub.to_csv(r\"D:\\Data Science\\Projects\\Analytics vidya\\Black Friday Sales Prediction\\Cross_val_preds.csv\", index = False)"
   ]
  },
  {
   "cell_type": "markdown",
   "metadata": {},
   "source": [
    "### 2. Random Forest"
   ]
  },
  {
   "cell_type": "code",
   "execution_count": 94,
   "metadata": {
    "collapsed": true
   },
   "outputs": [
    {
     "name": "stdout",
     "output_type": "stream",
     "text": [
      "\n",
      "=========================Fold1============================\n",
      "\n",
      " RMSE score for Validation set is : 2981.1920511557773\n",
      "\n",
      "=========================Fold2============================\n",
      "\n",
      " RMSE score for Validation set is : 2970.444471294864\n",
      "\n",
      "=========================Fold3============================\n",
      "\n",
      " RMSE score for Validation set is : 2978.710606333425\n",
      "\n",
      "=========================Fold4============================\n",
      "\n",
      " RMSE score for Validation set is : 2970.841544926764\n",
      "\n",
      "=========================Fold5============================\n",
      "\n",
      " RMSE score for Validation set is : 3922.5929257758016\n",
      "\n",
      "\n",
      "RMSE score for oofs is 3187.3613735910976\n"
     ]
    }
   ],
   "source": [
    "rf = RandomForestRegressor(max_depth = 20, max_features = 0.9, max_leaf_nodes = 150, n_estimators = 300, n_jobs = -3)\n",
    "\n",
    "rf_oofs, rf_preds = cross_val(rf, train_proc, test_proc, features)"
   ]
  },
  {
   "cell_type": "code",
   "execution_count": 96,
   "metadata": {},
   "outputs": [],
   "source": [
    "sample_sub['Purchase'] = rf_preds\n",
    "sample_sub.to_csv(r\"D:\\Data Science\\Projects\\Analytics vidya\\Black Friday Sales Prediction\\Cross_val_preds.csv\", index = False)"
   ]
  },
  {
   "cell_type": "markdown",
   "metadata": {},
   "source": [
    "---\n",
    "# Gradient Boosting"
   ]
  },
  {
   "cell_type": "markdown",
   "metadata": {},
   "source": [
    "### 1. LGBM "
   ]
  },
  {
   "cell_type": "code",
   "execution_count": 21,
   "metadata": {},
   "outputs": [
    {
     "name": "stdout",
     "output_type": "stream",
     "text": [
      "RMSE score is: 2750.9148578630166\n",
      "Wall time: 1.51 s\n"
     ]
    }
   ],
   "source": [
    "%%time\n",
    "lgb = LGBMRegressor()\n",
    "lgb.fit(X_trn, y_trn)\n",
    "preds = lgb.predict(X_val)\n",
    "rmse = np.sqrt(mean_squared_error(y_val, preds))\n",
    "print(f'RMSE score is: {rmse}')\n",
    "\n"
   ]
  },
  {
   "cell_type": "code",
   "execution_count": 347,
   "metadata": {},
   "outputs": [],
   "source": [
    "test_preds = lgb.predict(X_test)\n",
    "\n",
    "sample_sub['Purchase'] = test_preds\n",
    "sample_sub.to_csv(r\"D:\\Data Science\\Projects\\Analytics vidya\\Black Friday Sales Prediction\\Boosting.csv\", index = False)"
   ]
  },
  {
   "cell_type": "code",
   "execution_count": 17,
   "metadata": {},
   "outputs": [
    {
     "name": "stdout",
     "output_type": "stream",
     "text": [
      "\n",
      "=========================Fold1============================\n",
      "\n",
      " RMSE score for Validation set is : 2759.899923848875\n",
      "\n",
      "=========================Fold2============================\n",
      "\n",
      " RMSE score for Validation set is : 2762.192708711764\n",
      "\n",
      "=========================Fold3============================\n",
      "\n",
      " RMSE score for Validation set is : 2760.918608273542\n",
      "\n",
      "=========================Fold4============================\n",
      "\n",
      " RMSE score for Validation set is : 2753.2533288549744\n",
      "\n",
      "=========================Fold5============================\n",
      "\n",
      " RMSE score for Validation set is : 2760.8781442172553\n",
      "\n",
      "\n",
      "RMSE score for oofs is 2759.4303748483576\n"
     ]
    }
   ],
   "source": [
    "lgb_oofs, lgb_preds = cross_val(lgb, train_proc, test_proc, features)"
   ]
  },
  {
   "cell_type": "code",
   "execution_count": 349,
   "metadata": {},
   "outputs": [],
   "source": [
    "sample_sub['Purchase'] = lgb_preds\n",
    "sample_sub.to_csv(r\"D:\\Data Science\\Projects\\Analytics vidya\\Black Friday Sales Prediction\\Boosting.csv\", index = False)"
   ]
  },
  {
   "cell_type": "markdown",
   "metadata": {},
   "source": [
    "#### Hyperparameter tuning"
   ]
  },
  {
   "cell_type": "code",
   "execution_count": 361,
   "metadata": {
    "collapsed": true
   },
   "outputs": [
    {
     "name": "stderr",
     "output_type": "stream",
     "text": [
      "[I 2020-10-04 18:25:41,849] A new study created in memory with name: no-name-821498e1-b01b-4204-aef8-a5969749a25e\n",
      "[I 2020-10-04 18:25:45,244] Trial 0 finished with value: 2600.2279166615594 and parameters: {'max_depth': 14, 'n_estimators': 48, 'learning_rate': 0.7436704297351775, 'num_leaves': 4933, 'colsample_bytree': 0.7863564940982054, 'min_child_samples': 106, 'reg_alpha': 10, 'reg_lambda': 4}. Best is trial 0 with value: 2600.2279166615594.\n",
      "[I 2020-10-04 18:26:20,031] Trial 1 finished with value: 2723.1312682528246 and parameters: {'max_depth': 23, 'n_estimators': 243, 'learning_rate': 0.49382849013642327, 'num_leaves': 3470, 'colsample_bytree': 0.40675321506062223, 'min_child_samples': 42, 'reg_alpha': 8, 'reg_lambda': 9}. Best is trial 0 with value: 2600.2279166615594.\n",
      "[I 2020-10-04 18:26:29,614] Trial 2 finished with value: 2638.8272160665333 and parameters: {'max_depth': 19, 'n_estimators': 166, 'learning_rate': 0.8524708871836397, 'num_leaves': 2165, 'colsample_bytree': 0.39459323187243844, 'min_child_samples': 200, 'reg_alpha': 1, 'reg_lambda': 3}. Best is trial 0 with value: 2600.2279166615594.\n",
      "[I 2020-10-04 18:26:35,431] Trial 3 finished with value: 2597.5770003584144 and parameters: {'max_depth': 5, 'n_estimators': 473, 'learning_rate': 0.8208196767816798, 'num_leaves': 799, 'colsample_bytree': 0.7244233410291644, 'min_child_samples': 145, 'reg_alpha': 8, 'reg_lambda': 1}. Best is trial 3 with value: 2597.5770003584144.\n",
      "[I 2020-10-04 18:26:38,498] Trial 4 finished with value: 2745.9759849563657 and parameters: {'max_depth': 3, 'n_estimators': 266, 'learning_rate': 0.5836359065041096, 'num_leaves': 546, 'colsample_bytree': 0.5174786574000574, 'min_child_samples': 154, 'reg_alpha': 4, 'reg_lambda': 3}. Best is trial 3 with value: 2597.5770003584144.\n",
      "[I 2020-10-04 18:26:42,719] Trial 5 finished with value: 2616.996721676064 and parameters: {'max_depth': 25, 'n_estimators': 29, 'learning_rate': 0.6115905539817836, 'num_leaves': 2178, 'colsample_bytree': 0.3593128062345713, 'min_child_samples': 136, 'reg_alpha': 7, 'reg_lambda': 9}. Best is trial 3 with value: 2597.5770003584144.\n",
      "[I 2020-10-04 18:27:16,807] Trial 6 finished with value: 3016.8305204566395 and parameters: {'max_depth': 22, 'n_estimators': 274, 'learning_rate': 0.9493732706631618, 'num_leaves': 1643, 'colsample_bytree': 0.45995999192898207, 'min_child_samples': 34, 'reg_alpha': 9, 'reg_lambda': 2}. Best is trial 3 with value: 2597.5770003584144.\n",
      "[I 2020-10-04 18:27:21,474] Trial 7 finished with value: 2792.4793061243463 and parameters: {'max_depth': 3, 'n_estimators': 488, 'learning_rate': 0.15420292446634287, 'num_leaves': 3944, 'colsample_bytree': 0.6365102956945276, 'min_child_samples': 177, 'reg_alpha': 3, 'reg_lambda': 1}. Best is trial 3 with value: 2597.5770003584144.\n",
      "[I 2020-10-04 18:27:26,024] Trial 8 finished with value: 2663.408319080685 and parameters: {'max_depth': 16, 'n_estimators': 100, 'learning_rate': 0.42733969384836035, 'num_leaves': 2683, 'colsample_bytree': 0.13074034117818778, 'min_child_samples': 71, 'reg_alpha': 7, 'reg_lambda': 5}. Best is trial 3 with value: 2597.5770003584144.\n",
      "[I 2020-10-04 18:27:33,184] Trial 9 finished with value: 2600.7989430560715 and parameters: {'max_depth': 17, 'n_estimators': 128, 'learning_rate': 0.6715529862432075, 'num_leaves': 1206, 'colsample_bytree': 0.3026332820318257, 'min_child_samples': 146, 'reg_alpha': 5, 'reg_lambda': 4}. Best is trial 3 with value: 2597.5770003584144.\n",
      "[I 2020-10-04 18:27:40,282] Trial 10 finished with value: 2646.549865774382 and parameters: {'max_depth': 9, 'n_estimators': 494, 'learning_rate': 0.957500434774104, 'num_leaves': 60, 'colsample_bytree': 0.8690157185708779, 'min_child_samples': 97, 'reg_alpha': 6, 'reg_lambda': 7}. Best is trial 3 with value: 2597.5770003584144.\n",
      "[I 2020-10-04 18:27:49,958] Trial 11 finished with value: 2635.689515038306 and parameters: {'max_depth': 10, 'n_estimators': 369, 'learning_rate': 0.7689591799066534, 'num_leaves': 4998, 'colsample_bytree': 0.8384145669658358, 'min_child_samples': 105, 'reg_alpha': 10, 'reg_lambda': 1}. Best is trial 3 with value: 2597.5770003584144.\n",
      "[I 2020-10-04 18:27:52,424] Trial 12 finished with value: 2639.757946530059 and parameters: {'max_depth': 30, 'n_estimators': 7, 'learning_rate': 0.807848429341445, 'num_leaves': 4721, 'colsample_bytree': 0.7361453650367419, 'min_child_samples': 111, 'reg_alpha': 10, 'reg_lambda': 6}. Best is trial 3 with value: 2597.5770003584144.\n",
      "[I 2020-10-04 18:27:55,415] Trial 13 finished with value: 2852.7020441349105 and parameters: {'max_depth': 10, 'n_estimators': 400, 'learning_rate': 0.33886993946586114, 'num_leaves': 3, 'colsample_bytree': 0.6929444282234998, 'min_child_samples': 74, 'reg_alpha': 9, 'reg_lambda': 7}. Best is trial 3 with value: 2597.5770003584144.\n",
      "[I 2020-10-04 18:28:02,331] Trial 14 finished with value: 2583.469663823999 and parameters: {'max_depth': 7, 'n_estimators': 399, 'learning_rate': 0.7256970569232428, 'num_leaves': 743, 'colsample_bytree': 0.7931374592061713, 'min_child_samples': 128, 'reg_alpha': 10, 'reg_lambda': 1}. Best is trial 14 with value: 2583.469663823999.\n",
      "[I 2020-10-04 18:28:09,313] Trial 15 finished with value: 2607.310215754769 and parameters: {'max_depth': 7, 'n_estimators': 409, 'learning_rate': 0.9959226489995552, 'num_leaves': 858, 'colsample_bytree': 0.5818466042616485, 'min_child_samples': 179, 'reg_alpha': 8, 'reg_lambda': 1}. Best is trial 14 with value: 2583.469663823999.\n",
      "[I 2020-10-04 18:28:14,658] Trial 16 finished with value: 2594.7358442729505 and parameters: {'max_depth': 5, 'n_estimators': 454, 'learning_rate': 0.8758260838609176, 'num_leaves': 1422, 'colsample_bytree': 0.8936697241781061, 'min_child_samples': 130, 'reg_alpha': 8, 'reg_lambda': 2}. Best is trial 14 with value: 2583.469663823999.\n",
      "[I 2020-10-04 18:28:17,585] Trial 17 finished with value: 2785.7790069496027 and parameters: {'max_depth': 2, 'n_estimators': 330, 'learning_rate': 0.8854045427086774, 'num_leaves': 1713, 'colsample_bytree': 0.8989029484187412, 'min_child_samples': 127, 'reg_alpha': 9, 'reg_lambda': 2}. Best is trial 14 with value: 2583.469663823999.\n",
      "[I 2020-10-04 18:28:32,592] Trial 18 finished with value: 2633.539178642352 and parameters: {'max_depth': 13, 'n_estimators': 421, 'learning_rate': 0.6814845810807021, 'num_leaves': 1438, 'colsample_bytree': 0.8415829847500862, 'min_child_samples': 171, 'reg_alpha': 6, 'reg_lambda': 3}. Best is trial 14 with value: 2583.469663823999.\n",
      "[I 2020-10-04 18:28:38,040] Trial 19 finished with value: 2643.388088129704 and parameters: {'max_depth': 6, 'n_estimators': 324, 'learning_rate': 0.6991552589802954, 'num_leaves': 276, 'colsample_bytree': 0.1779145866291979, 'min_child_samples': 75, 'reg_alpha': 7, 'reg_lambda': 2}. Best is trial 14 with value: 2583.469663823999.\n"
     ]
    },
    {
     "data": {
      "text/plain": [
       "LGBMRegressor(colsample_bytree=0.7931374592061713,\n",
       "              learning_rate=0.7256970569232428, max_depth=7,\n",
       "              min_child_samples=128, n_estimators=399, num_leaves=743,\n",
       "              random_state=0, reg_alpha=10, reg_lambda=1)"
      ]
     },
     "execution_count": 361,
     "metadata": {},
     "output_type": "execute_result"
    },
    {
     "name": "stdout",
     "output_type": "stream",
     "text": [
      "Optimized LightGBM roc_auc_score 2583.5127741180045\n"
     ]
    }
   ],
   "source": [
    "import optuna\n",
    "from optuna.samplers import TPESampler\n",
    "\n",
    "def create_model(trial):\n",
    "    max_depth = trial.suggest_int(\"max_depth\", 2, 30)\n",
    "    n_estimators = trial.suggest_int(\"n_estimators\", 1, 500)\n",
    "    learning_rate = trial.suggest_uniform('learning_rate', 0.1, 1)\n",
    "    num_leaves = trial.suggest_int(\"num_leaves\", 2, 5000)\n",
    "    colsample_bytree = trial.suggest_uniform('colsample_bytree', 0.1, 0.9),\n",
    "    min_child_samples = trial.suggest_int('min_child_samples', 3, 200)\n",
    "    reg_alpha = trial.suggest_int(\"reg_alpha\", 1, 10)\n",
    "    reg_lambda = trial.suggest_int(\"reg_lambda\", 1, 10)\n",
    "    model = LGBMRegressor(\n",
    "        learning_rate=learning_rate, \n",
    "        n_estimators=n_estimators, \n",
    "        max_depth=max_depth,\n",
    "        num_leaves=num_leaves,\n",
    "        colsample_bytree = colsample_bytree,\n",
    "        min_child_samples=min_child_samples,\n",
    "        random_state=0,\n",
    "    )\n",
    "    return model\n",
    "\n",
    "sampler = TPESampler(seed=0)\n",
    "def objective(trial):\n",
    "    model = create_model(trial)\n",
    "    model.fit(X_trn, y_trn)\n",
    "    preds = model.predict(X_val)\n",
    "    score = np.sqrt(mean_squared_error(y_val,preds))\n",
    "    return score\n",
    "\n",
    "study = optuna.create_study(direction=\"minimize\", sampler=sampler)\n",
    "study.optimize(objective, n_trials=20)\n",
    "\n",
    "lgb_params = study.best_params\n",
    "lgb_params['random_state'] = 0\n",
    "lgb = LGBMRegressor(**lgb_params)\n",
    "lgb.fit(X_trn, y_trn)\n",
    "preds = lgb.predict(X_val)\n",
    "print('Optimized LightGBM roc_auc_score', np.sqrt(mean_squared_error(y_val, preds)))"
   ]
  },
  {
   "cell_type": "code",
   "execution_count": 13,
   "metadata": {},
   "outputs": [
    {
     "name": "stdout",
     "output_type": "stream",
     "text": [
      "RMSE score is: 2541.370069699907\n",
      "Wall time: 17.6 s\n"
     ]
    }
   ],
   "source": [
    "%%time\n",
    "params = {'colsample_bytree' : 0.7, 'max_depth': 18, 'n_estimators': 300, 'learning_rate': 0.2, 'num_leaves': 1779, 'min_child_samples': 181, 'reg_alpha': 3, 'reg_lambda': 1}\n",
    "lgb = LGBMRegressor(**params)\n",
    "lgb.fit(X_trn, y_trn)\n",
    "preds = lgb.predict(X_val)\n",
    "rmse = np.sqrt(mean_squared_error(y_val, preds))\n",
    "print(f'RMSE score is: {rmse}')"
   ]
  },
  {
   "cell_type": "code",
   "execution_count": 376,
   "metadata": {},
   "outputs": [],
   "source": [
    "test_preds = lgb.predict(X_test)\n",
    "\n",
    "sample_sub['Purchase'] = test_preds\n",
    "sample_sub.to_csv(r\"D:\\Data Science\\Projects\\Analytics vidya\\Black Friday Sales Prediction\\Boosting.csv\", index = False)"
   ]
  },
  {
   "cell_type": "code",
   "execution_count": null,
   "metadata": {
    "collapsed": true
   },
   "outputs": [
    {
     "name": "stdout",
     "output_type": "stream",
     "text": [
      "\n",
      "=========================Fold1============================\n",
      "\n",
      " RMSE score for Validation set is : 2540.2632988342307\n",
      "\n",
      "=========================Fold2============================\n",
      "\n",
      " RMSE score for Validation set is : 2539.1805123691934\n",
      "\n",
      "=========================Fold3============================\n"
     ]
    }
   ],
   "source": [
    "lgb_oofs, lgb_preds = cross_val(lgb, train_proc, test_proc, features)"
   ]
  },
  {
   "cell_type": "code",
   "execution_count": 378,
   "metadata": {},
   "outputs": [],
   "source": [
    "sample_sub['Purchase'] = lgb_preds\n",
    "sample_sub.to_csv(r\"D:\\Data Science\\Projects\\Analytics vidya\\Black Friday Sales Prediction\\Boosting.csv\", index = False)"
   ]
  },
  {
   "cell_type": "markdown",
   "metadata": {},
   "source": [
    "---\n",
    "### 2. XGBoost Regressor"
   ]
  },
  {
   "cell_type": "code",
   "execution_count": null,
   "metadata": {},
   "outputs": [],
   "source": [
    "%%time\n",
    "#xgb = XGBRegressor(learning_rate=1.0, max_depth=6, min_child_weight=40, seed=0)\n",
    "xgb = XGBRegressor()\n",
    "xgb.fit(X_trn, y_trn)\n",
    "preds = xgb.predict(X_val)\n",
    "rmse = np.sqrt(mean_squared_error(y_val, preds))\n",
    "print(f'RMSE score is: {rmse}')"
   ]
  },
  {
   "cell_type": "code",
   "execution_count": 355,
   "metadata": {},
   "outputs": [],
   "source": [
    "test_preds = xgb.predict(X_test)\n",
    "\n",
    "sample_sub['Purchase'] = test_preds\n",
    "sample_sub.to_csv(r\"D:\\Data Science\\Projects\\Analytics vidya\\Black Friday Sales Prediction\\Boosting.csv\", index = False)"
   ]
  },
  {
   "cell_type": "code",
   "execution_count": 35,
   "metadata": {},
   "outputs": [
    {
     "name": "stdout",
     "output_type": "stream",
     "text": [
      "\n",
      "=========================Fold1============================\n",
      "\n",
      " RMSE score for Validation set is : 2675.8850048480826\n",
      "\n",
      "=========================Fold2============================\n",
      "\n",
      " RMSE score for Validation set is : 2675.5238106692345\n",
      "\n",
      "=========================Fold3============================\n",
      "\n",
      " RMSE score for Validation set is : 2682.053393146545\n",
      "\n",
      "=========================Fold4============================\n",
      "\n",
      " RMSE score for Validation set is : 2677.727826130279\n",
      "\n",
      "=========================Fold5============================\n",
      "\n",
      " RMSE score for Validation set is : 2686.2986273776137\n",
      "\n",
      "\n",
      "RMSE score for oofs is 2679.500886560412\n"
     ]
    }
   ],
   "source": [
    "xgb_oofs, xgb_preds = cross_val(xgb, train_proc, test_proc, features)"
   ]
  },
  {
   "cell_type": "code",
   "execution_count": 357,
   "metadata": {},
   "outputs": [],
   "source": [
    "sample_sub['Purchase'] = xgb_preds\n",
    "sample_sub.to_csv(r\"D:\\Data Science\\Projects\\Analytics vidya\\Black Friday Sales Prediction\\Boosting.csv\", index = False)"
   ]
  },
  {
   "cell_type": "markdown",
   "metadata": {},
   "source": [
    "#### Hyperparameter Tuning"
   ]
  },
  {
   "cell_type": "code",
   "execution_count": 381,
   "metadata": {
    "collapsed": true
   },
   "outputs": [
    {
     "name": "stderr",
     "output_type": "stream",
     "text": [
      "[I 2020-10-04 18:58:36,053] A new study created in memory with name: no-name-9535f2b0-1afc-4a73-992c-639130c6ce5f\n",
      "[I 2020-10-04 18:59:02,894] Trial 0 finished with value: 2679.875384734054 and parameters: {'max_depth': 14, 'n_estimators': 48, 'learning_rate': 0.7436704297351775, 'colsample_bytree': 0.5822107008573151, 'reg_alpha': 4, 'reg_lambda': 8}. Best is trial 0 with value: 2679.875384734054.\n",
      "[I 2020-10-04 19:00:17,623] Trial 1 finished with value: 2647.5774928781534 and parameters: {'max_depth': 11, 'n_estimators': 212, 'learning_rate': 0.6813047017599905, 'colsample_bytree': 0.45006976901015405, 'reg_alpha': 7, 'reg_lambda': 9}. Best is trial 1 with value: 2647.5774928781534.\n",
      "[I 2020-10-04 19:10:34,384] Trial 2 finished with value: 2808.8305053690056 and parameters: {'max_depth': 26, 'n_estimators': 397, 'learning_rate': 0.4450973669431999, 'colsample_bytree': 0.7333800304661316, 'reg_alpha': 8, 'reg_lambda': 9}. Best is trial 1 with value: 2647.5774928781534.\n",
      "[I 2020-10-04 19:12:36,560] Trial 3 finished with value: 3002.8955166933533 and parameters: {'max_depth': 19, 'n_estimators': 166, 'learning_rate': 0.8524708871836397, 'colsample_bytree': 0.36991692833381473, 'reg_alpha': 5, 'reg_lambda': 4}. Best is trial 1 with value: 2647.5774928781534.\n",
      "[I 2020-10-04 19:14:25,713] Trial 4 finished with value: 2909.8722707016727 and parameters: {'max_depth': 18, 'n_estimators': 244, 'learning_rate': 0.9614396430577418, 'colsample_bytree': 0.21228062433011613, 'reg_alpha': 1, 'reg_lambda': 3}. Best is trial 1 with value: 2647.5774928781534.\n",
      "[I 2020-10-04 19:16:00,533] Trial 5 finished with value: 2551.14024286085 and parameters: {'max_depth': 5, 'n_estimators': 473, 'learning_rate': 0.8208196767816798, 'colsample_bytree': 0.5163819836409639, 'reg_alpha': 4, 'reg_lambda': 8}. Best is trial 5 with value: 2551.14024286085.\n",
      "[I 2020-10-04 19:16:58,752] Trial 6 finished with value: 2825.5671057570576 and parameters: {'max_depth': 2, 'n_estimators': 450, 'learning_rate': 0.22901795866814179, 'colsample_bytree': 0.8557351336396671, 'reg_alpha': 5, 'reg_lambda': 8}. Best is trial 5 with value: 2551.14024286085.\n",
      "[I 2020-10-04 19:18:01,101] Trial 7 finished with value: 2574.139762080715 and parameters: {'max_depth': 5, 'n_estimators': 460, 'learning_rate': 0.7632263594160623, 'colsample_bytree': 0.2732402835394975, 'reg_alpha': 1, 'reg_lambda': 1}. Best is trial 5 with value: 2551.14024286085.\n",
      "[I 2020-10-04 19:18:11,560] Trial 8 finished with value: 2904.1541649540877 and parameters: {'max_depth': 6, 'n_estimators': 54, 'learning_rate': 0.23470738046531486, 'colsample_bytree': 0.27785711060127016, 'reg_alpha': 2, 'reg_lambda': 5}. Best is trial 5 with value: 2551.14024286085.\n",
      "[I 2020-10-04 19:18:29,103] Trial 9 finished with value: 2626.9883886934786 and parameters: {'max_depth': 11, 'n_estimators': 43, 'learning_rate': 0.42355711051640743, 'colsample_bytree': 0.4496255630394732, 'reg_alpha': 2, 'reg_lambda': 8}. Best is trial 5 with value: 2551.14024286085.\n",
      "[I 2020-10-04 19:25:58,510] Trial 10 finished with value: 3120.0966702566693 and parameters: {'max_depth': 29, 'n_estimators': 366, 'learning_rate': 0.957500434774104, 'colsample_bytree': 0.6329481879134481, 'reg_alpha': 10, 'reg_lambda': 6}. Best is trial 5 with value: 2551.14024286085.\n",
      "[I 2020-10-04 19:26:27,480] Trial 11 finished with value: 2825.4643284918234 and parameters: {'max_depth': 2, 'n_estimators': 488, 'learning_rate': 0.6583268987967617, 'colsample_bytree': 0.10235040321080335, 'reg_alpha': 3, 'reg_lambda': 1}. Best is trial 5 with value: 2551.14024286085.\n",
      "[I 2020-10-04 19:27:02,021] Trial 12 finished with value: 2614.023678611112 and parameters: {'max_depth': 6, 'n_estimators': 339, 'learning_rate': 0.828520797551441, 'colsample_bytree': 0.15247124262877054, 'reg_alpha': 1, 'reg_lambda': 1}. Best is trial 5 with value: 2551.14024286085.\n",
      "[I 2020-10-04 19:28:51,448] Trial 13 finished with value: 2545.058012723407 and parameters: {'max_depth': 7, 'n_estimators': 496, 'learning_rate': 0.5604363463067941, 'colsample_bytree': 0.3320641259206344, 'reg_alpha': 7, 'reg_lambda': 6}. Best is trial 13 with value: 2545.058012723407.\n",
      "[I 2020-10-04 19:32:13,016] Trial 14 finished with value: 2635.8538644154514 and parameters: {'max_depth': 10, 'n_estimators': 500, 'learning_rate': 0.5488284083635986, 'colsample_bytree': 0.5989893589827158, 'reg_alpha': 7, 'reg_lambda': 6}. Best is trial 13 with value: 2545.058012723407.\n",
      "[I 2020-10-04 19:33:31,558] Trial 15 finished with value: 2548.2724575642837 and parameters: {'max_depth': 8, 'n_estimators': 308, 'learning_rate': 0.5591508038989558, 'colsample_bytree': 0.36120806973216757, 'reg_alpha': 10, 'reg_lambda': 10}. Best is trial 13 with value: 2545.058012723407.\n",
      "[I 2020-10-04 19:37:21,938] Trial 16 finished with value: 2721.6057825248668 and parameters: {'max_depth': 22, 'n_estimators': 309, 'learning_rate': 0.3711863358908378, 'colsample_bytree': 0.3511684886517279, 'reg_alpha': 10, 'reg_lambda': 10}. Best is trial 13 with value: 2545.058012723407.\n",
      "[I 2020-10-04 19:38:02,335] Trial 17 finished with value: 2580.0775624776134 and parameters: {'max_depth': 9, 'n_estimators': 134, 'learning_rate': 0.5589848770763511, 'colsample_bytree': 0.3652220340261817, 'reg_alpha': 9, 'reg_lambda': 3}. Best is trial 13 with value: 2545.058012723407.\n",
      "[I 2020-10-04 19:39:36,593] Trial 18 finished with value: 2591.910659471566 and parameters: {'max_depth': 14, 'n_estimators': 284, 'learning_rate': 0.5117962733163866, 'colsample_bytree': 0.23095826699517263, 'reg_alpha': 7, 'reg_lambda': 10}. Best is trial 13 with value: 2545.058012723407.\n",
      "[I 2020-10-04 19:40:15,136] Trial 19 finished with value: 2810.3812312438045 and parameters: {'max_depth': 2, 'n_estimators': 407, 'learning_rate': 0.3262644479059426, 'colsample_bytree': 0.43125061516317326, 'reg_alpha': 9, 'reg_lambda': 7}. Best is trial 13 with value: 2545.058012723407.\n"
     ]
    },
    {
     "data": {
      "text/plain": [
       "XGBRegressor(base_score=0.5, booster='gbtree', colsample_bylevel=1,\n",
       "             colsample_bynode=1, colsample_bytree=0.3320641259206344, gamma=0,\n",
       "             gpu_id=-1, importance_type='gain', interaction_constraints='',\n",
       "             learning_rate=0.5604363463067941, max_delta_step=0, max_depth=7,\n",
       "             min_child_weight=1, missing=nan, monotone_constraints='()',\n",
       "             n_estimators=496, n_jobs=0, num_parallel_tree=1, random_state=0,\n",
       "             reg_alpha=7, reg_lambda=6, scale_pos_weight=1, subsample=1,\n",
       "             tree_method='exact', validate_parameters=1, verbosity=None)"
      ]
     },
     "execution_count": 381,
     "metadata": {},
     "output_type": "execute_result"
    },
    {
     "name": "stdout",
     "output_type": "stream",
     "text": [
      "Optimized LightGBM roc_auc_score 2527.432322878706\n"
     ]
    }
   ],
   "source": [
    "import optuna\n",
    "from optuna.samplers import TPESampler\n",
    "\n",
    "def create_model(trial):\n",
    "    max_depth = trial.suggest_int(\"max_depth\", 2, 30)\n",
    "    n_estimators = trial.suggest_int(\"n_estimators\", 1, 500)\n",
    "    learning_rate = trial.suggest_uniform('learning_rate', 0.1, 1)\n",
    "    colsample_bytree = trial.suggest_uniform('colsample_bytree', 0.1, 0.9)\n",
    "    #num_leaves = trial.suggest_int(\"num_leaves\", 2, 5000)\n",
    "    #min_child_samples = trial.suggest_int('min_child_samples', 3, 200)\n",
    "    reg_alpha = trial.suggest_int(\"reg_alpha\", 1, 10)\n",
    "    reg_lambda = trial.suggest_int(\"reg_lambda\", 1, 10)\n",
    "    model = XGBRegressor(\n",
    "        learning_rate=learning_rate, \n",
    "        n_estimators=n_estimators, \n",
    "        max_depth=max_depth,\n",
    "        colsample_bytree = colsample_bytree,\n",
    "        #num_leaves=num_leaves, \n",
    "        #min_child_samples=min_child_samples,\n",
    "        random_state=0,\n",
    "        n_jobs = -1\n",
    "    )\n",
    "    return model\n",
    "\n",
    "sampler = TPESampler(seed=0)\n",
    "def objective(trial):\n",
    "    model = create_model(trial)\n",
    "    model.fit(X_trn, y_trn)\n",
    "    preds = model.predict(X_val)\n",
    "    score = np.sqrt(mean_squared_error(y_val,preds))\n",
    "    return score\n",
    "\n",
    "study = optuna.create_study(direction=\"minimize\", sampler=sampler)\n",
    "study.optimize(objective, n_trials=20)\n",
    "\n",
    "xgb_params = study.best_params\n",
    "xgb_params['random_state'] = 0\n",
    "xgb = XGBRegressor(**xgb_params)\n",
    "xgb.fit(X_trn, y_trn)\n",
    "preds = xgb.predict(X_val)\n",
    "print('Optimized LightGBM roc_auc_score', np.sqrt(mean_squared_error(y_val, preds)))"
   ]
  },
  {
   "cell_type": "code",
   "execution_count": 14,
   "metadata": {},
   "outputs": [
    {
     "name": "stdout",
     "output_type": "stream",
     "text": [
      "RMSE score is: 2528.8712153015713\n"
     ]
    }
   ],
   "source": [
    "params = {'max_depth': 7, 'n_estimators': 496, 'learning_rate': 0.5604363463067941, 'colsample_bytree': 0.3320641259206344, 'reg_alpha': 7, 'reg_lambda': 6}\n",
    "\n",
    "xgb = XGBRegressor(**params)\n",
    "xgb.fit(X_trn, y_trn)\n",
    "preds = xgb.predict(X_val)\n",
    "rmse = np.sqrt(mean_squared_error(y_val, preds))\n",
    "print(f'RMSE score is: {rmse}')"
   ]
  },
  {
   "cell_type": "code",
   "execution_count": 384,
   "metadata": {},
   "outputs": [],
   "source": [
    "test_preds = xgb.predict(X_test)\n",
    "\n",
    "sample_sub['Purchase'] = test_preds\n",
    "sample_sub.to_csv(r\"D:\\Data Science\\Projects\\Analytics vidya\\Black Friday Sales Prediction\\Boosting.csv\", index = False)"
   ]
  },
  {
   "cell_type": "code",
   "execution_count": null,
   "metadata": {},
   "outputs": [],
   "source": [
    "%%time\n",
    "xgb_oofs, xgb_preds = cross_val(xgb, train_proc, test_proc, features)"
   ]
  },
  {
   "cell_type": "code",
   "execution_count": 387,
   "metadata": {},
   "outputs": [],
   "source": [
    "sample_sub['Purchase'] = xgb_preds\n",
    "sample_sub.to_csv(r\"D:\\Data Science\\Projects\\Analytics vidya\\Black Friday Sales Prediction\\Boosting.csv\", index = False)"
   ]
  },
  {
   "cell_type": "markdown",
   "metadata": {},
   "source": [
    "---\n",
    "### 3. Catboost"
   ]
  },
  {
   "cell_type": "code",
   "execution_count": 27,
   "metadata": {},
   "outputs": [],
   "source": [
    "num_cols = ['Age', 'Stay_In_Current_City_Years',]\n",
    "cat_cols = [col for col in X_trn.columns if col not in num_cols]"
   ]
  },
  {
   "cell_type": "code",
   "execution_count": 16,
   "metadata": {},
   "outputs": [
    {
     "name": "stdout",
     "output_type": "stream",
     "text": [
      "RMSE score is: 2601.624065878614\n"
     ]
    }
   ],
   "source": [
    "cat_base = CatBoostRegressor(cat_features=cat_cols, verbose=False)\n",
    "cat_base.fit(X_trn, y_trn)\n",
    "preds = cat_base.predict(X_val)\n",
    "rmse = np.sqrt(mean_squared_error(y_val, preds))\n",
    "print(f'RMSE score is: {rmse}')"
   ]
  },
  {
   "cell_type": "code",
   "execution_count": 394,
   "metadata": {},
   "outputs": [],
   "source": [
    "test_preds = cat.predict(X_test)\n",
    "\n",
    "sample_sub['Purchase'] = test_preds\n",
    "sample_sub.to_csv(r\"D:\\Data Science\\Projects\\Analytics vidya\\Black Friday Sales Prediction\\Boosting.csv\", index = False)"
   ]
  },
  {
   "cell_type": "markdown",
   "metadata": {},
   "source": [
    "---\n",
    "# Cross Val For Catboost"
   ]
  },
  {
   "cell_type": "code",
   "execution_count": null,
   "metadata": {},
   "outputs": [],
   "source": [
    "def cat_cross_val(regressor, train, test, features):\n",
    "    N_splits = 5\n",
    "    \n",
    "    oofs = np.zeros(len(train))\n",
    "    preds = np.zeros(len(test))\n",
    "    \n",
    "    target_col = train[target]\n",
    "    \n",
    "    folds = StratifiedKFold(n_splits = N_splits, shuffle = True)\n",
    "    stratified_target = pd.qcut( train[target], 10, labels = False, duplicates = 'drop')\n",
    "    \n",
    "    for index, (trn_idx, val_idx) in enumerate(folds.split(train, stratified_target)):\n",
    "        print(f'\\n=========================Fold{index+1}============================')\n",
    "        \n",
    "        ####### Getting Train, Validation and Test sets.\n",
    "        \n",
    "        ## Training Set\n",
    "        X_trn, y_trn = train[features].iloc[trn_idx], target_col.iloc[trn_idx]\n",
    "        \n",
    "        ## Validation Set\n",
    "        X_val, y_val = train[features].iloc[val_idx], target_col.iloc[val_idx]\n",
    "        \n",
    "        ## Test Set\n",
    "        X_test = test[features]\n",
    "        \n",
    "        ###### Scaling Data ######\n",
    "        #scaler = StandardScaler()\n",
    "        #_ = scaler.fit(X_trn)\n",
    "        #\n",
    "        #X_trn = scaler.transform(X_trn)\n",
    "        #X_val = scaler.transform(X_val)\n",
    "        #X_test = scaler.transform(X_test)\n",
    "        \n",
    "        \n",
    "        ############ Fitting And Predicting #############\n",
    "        _ = regressor.fit(X_trn, y_trn)\n",
    "        \n",
    "        ## Predicting\n",
    "        val_preds = regressor.predict(X_val)\n",
    "        test_preds = regressor.predict(X_test)\n",
    "        \n",
    "        fold_score = np.sqrt( mean_squared_error(y_val, val_preds))\n",
    "        print(f'\\n RMSE score for Validation set is : {fold_score}')\n",
    "        \n",
    "        oofs[val_idx] = val_preds\n",
    "        preds += test_preds / N_splits\n",
    "        \n",
    "    oofs_score = np.sqrt( mean_squared_error(target_col, oofs))\n",
    "    print(f'\\n\\nRMSE score for oofs is {oofs_score}')\n",
    "    \n",
    "    return oofs, preds"
   ]
  },
  {
   "cell_type": "code",
   "execution_count": 44,
   "metadata": {},
   "outputs": [
    {
     "name": "stdout",
     "output_type": "stream",
     "text": [
      "\n",
      "=========================Fold1============================\n",
      "\n",
      " RMSE score for Validation set is : 2615.3371064549083\n",
      "\n",
      "=========================Fold2============================\n",
      "\n",
      " RMSE score for Validation set is : 2600.577802580648\n",
      "\n",
      "=========================Fold3============================\n",
      "\n",
      " RMSE score for Validation set is : 2605.621679886867\n",
      "\n",
      "=========================Fold4============================\n",
      "\n",
      " RMSE score for Validation set is : 2612.0447599619274\n",
      "\n",
      "=========================Fold5============================\n",
      "\n",
      " RMSE score for Validation set is : 2613.302688164023\n",
      "\n",
      "\n",
      "RMSE score for oofs is 2609.3825277994993\n",
      "Wall time: 15min 45s\n"
     ]
    }
   ],
   "source": [
    "%%time\n",
    "cat_oofs, cat_preds = cat_cross_val(cat_base, train_proc, test_proc, features)"
   ]
  },
  {
   "cell_type": "code",
   "execution_count": 416,
   "metadata": {},
   "outputs": [],
   "source": [
    "sample_sub['Purchase'] = cat_preds\n",
    "sample_sub.to_csv(r\"D:\\Data Science\\Projects\\Analytics vidya\\Black Friday Sales Prediction\\Boosting.csv\", index = False)"
   ]
  },
  {
   "cell_type": "code",
   "execution_count": null,
   "metadata": {},
   "outputs": [],
   "source": [
    "import optuna\n",
    "from optuna.samplers import TPESampler\n",
    "\n",
    "def create_model(trial):\n",
    "    max_depth = trial.suggest_int(\"max_depth\", 1, 16)\n",
    "    n_estimators = trial.suggest_int(\"n_estimators\", 500, 1500)\n",
    "    learning_rate = trial.suggest_uniform('learning_rate', 0.1, 1)\n",
    "    rsm = trial.suggest_uniform('rsm', 0.1, 0.99)\n",
    "    #num_leaves = trial.suggest_int(\"num_leaves\", 2, 5000)\n",
    "    #min_child_samples = trial.suggest_int('min_child_samples', 3, 200)\n",
    "    reg_alpha = trial.suggest_int(\"reg_alpha\", 1, 10)\n",
    "    reg_lambda = trial.suggest_int(\"reg_lambda\", 1, 10)\n",
    "    model = CatBoostRegressor(\n",
    "        learning_rate=learning_rate, \n",
    "        n_estimators=n_estimators, \n",
    "        max_depth=max_depth,\n",
    "        rsm = rsm,\n",
    "        #num_leaves=num_leaves, \n",
    "        #min_child_samples=min_child_samples,\n",
    "        random_state=0,\n",
    "        cat_features=cat_cols\n",
    "    )\n",
    "    return model\n",
    "\n",
    "sampler = TPESampler(seed=0)\n",
    "def objective(trial):\n",
    "    model = create_model(trial)\n",
    "    model.fit(X_trn, y_trn)\n",
    "    preds = model.predict(X_val)\n",
    "    score = np.sqrt(mean_squared_error(y_val,preds))\n",
    "    return score\n",
    "\n",
    "study = optuna.create_study(direction=\"minimize\", sampler=sampler)\n",
    "study.optimize(objective, n_trials=20)\n",
    "\n",
    "cat_params = study.best_params\n",
    "cat_params['random_state'] = 0\n",
    "cat = CatBoostRegressor(**cat_params)\n",
    "cat.fit(X_trn, y_trn)\n",
    "preds = cat.predict(X_val)\n",
    "print('Optimized LightGBM roc_auc_score', np.sqrt(mean_squared_error(y_val, preds)))"
   ]
  },
  {
   "cell_type": "code",
   "execution_count": 17,
   "metadata": {},
   "outputs": [
    {
     "name": "stdout",
     "output_type": "stream",
     "text": [
      "RMSE score is: 2552.9189230097018\n"
     ]
    }
   ],
   "source": [
    "params = {'max_depth': 11, 'n_estimators': 768, 'learning_rate': 0.19202927929990196, 'rsm': 0.9645427036490625, 'reg_lambda': 6}\n",
    "\n",
    "cat = CatBoostRegressor(cat_features=cat_cols, verbose=False, **params)\n",
    "cat.fit(X_trn, y_trn)\n",
    "preds = cat.predict(X_val)\n",
    "rmse = np.sqrt(mean_squared_error(y_val, preds))\n",
    "print(f'RMSE score is: {rmse}')"
   ]
  },
  {
   "cell_type": "code",
   "execution_count": 419,
   "metadata": {},
   "outputs": [],
   "source": [
    "test_preds = cat.predict(X_test)\n",
    "\n",
    "sample_sub['Purchase'] = test_preds\n",
    "sample_sub.to_csv(r\"D:\\Data Science\\Projects\\Analytics vidya\\Black Friday Sales Prediction\\Boosting.csv\", index = False)"
   ]
  },
  {
   "cell_type": "code",
   "execution_count": null,
   "metadata": {},
   "outputs": [],
   "source": [
    "%%time\n",
    "cat_oofs, cat_preds = cat_cross_val(cat, train_proc, test_proc, features)"
   ]
  },
  {
   "cell_type": "code",
   "execution_count": 420,
   "metadata": {},
   "outputs": [],
   "source": [
    "sample_sub['Purchase'] = cat_preds\n",
    "sample_sub.to_csv(r\"D:\\Data Science\\Projects\\Analytics vidya\\Black Friday Sales Prediction\\Boosting.csv\", index = False)"
   ]
  },
  {
   "cell_type": "code",
   "execution_count": 395,
   "metadata": {},
   "outputs": [],
   "source": [
    "def boosting_cross_val(regressor, train, test, features, name):\n",
    "    N_splits = 5\n",
    "    \n",
    "    oofs = np.zeros(len(train))\n",
    "    preds = np.zeros(len(test))\n",
    "    \n",
    "    target_col = train[target]\n",
    "    \n",
    "    folds = StratifiedKFold(n_splits = N_splits, shuffle = True)\n",
    "    stratified_target = pd.qcut( train[target], 10, labels = False, duplicates = 'drop')\n",
    "    \n",
    "    for index, (trn_idx, val_idx) in enumerate(folds.split(train, stratified_target)):\n",
    "        print(f'\\n=========================Fold{index+1}============================')\n",
    "        \n",
    "        ####### Getting Train, Validation and Test sets.\n",
    "        \n",
    "        ## Training Set\n",
    "        X_trn, y_trn = train[features].iloc[trn_idx], target_col.iloc[trn_idx]\n",
    "        \n",
    "        ## Validation Set\n",
    "        X_val, y_val = train[features].iloc[val_idx], target_col.iloc[val_idx]\n",
    "        \n",
    "        ## Test Set\n",
    "        X_test = test[features]\n",
    "        \n",
    "        if name != 'cat':\n",
    "            ###### Scaling Data ######\n",
    "            scaler = StandardScaler()\n",
    "            _ = scaler.fit(X_trn)\n",
    "\n",
    "            X_trn = scaler.transform(X_trn)\n",
    "            X_val = scaler.transform(X_val)\n",
    "            X_test = scaler.transform(X_test)\n",
    "        \n",
    "        \n",
    "        ############ Fitting And Predicting #############\n",
    "        _ = regressor.fit(X_trn, y_trn, eval_set = [(X_val, y_val)], early_stopping_rounds = 50, verbose = False)\n",
    "        \n",
    "        ## Predicting\n",
    "        val_preds = regressor.predict(X_val)\n",
    "        test_preds = regressor.predict(X_test)\n",
    "        \n",
    "        fold_score = np.sqrt( mean_squared_error(y_val, val_preds))\n",
    "        print(f'\\n RMSE score for Validation set is : {fold_score}')\n",
    "        \n",
    "        oofs[val_idx] = val_preds\n",
    "        preds += test_preds / N_splits\n",
    "        \n",
    "    oofs_score = np.sqrt( mean_squared_error(target_col, oofs))\n",
    "    print(f'\\n\\nRMSE score for oofs is {oofs_score}')\n",
    "    \n",
    "    return oofs, preds"
   ]
  },
  {
   "cell_type": "markdown",
   "metadata": {},
   "source": [
    "## Boosting Model Results"
   ]
  },
  {
   "cell_type": "code",
   "execution_count": 24,
   "metadata": {},
   "outputs": [
    {
     "name": "stdout",
     "output_type": "stream",
     "text": [
      "\n",
      "=========================Fold1============================\n",
      "\n",
      " RMSE score for Validation set is : 2557.266944855903\n",
      "\n",
      "=========================Fold2============================\n",
      "\n",
      " RMSE score for Validation set is : 2530.022410582768\n",
      "\n",
      "=========================Fold3============================\n",
      "\n",
      " RMSE score for Validation set is : 2549.745459215812\n",
      "\n",
      "=========================Fold4============================\n",
      "\n",
      " RMSE score for Validation set is : 2547.9715695583022\n",
      "\n",
      "=========================Fold5============================\n",
      "\n",
      " RMSE score for Validation set is : 2555.4447953428485\n",
      "\n",
      "\n",
      "RMSE score for oofs is 2548.1085698782913\n"
     ]
    }
   ],
   "source": [
    "lgb_oofs, lgb_preds = boosting_cross_val(lgb, train_proc, test_proc, features, 'lgb')"
   ]
  },
  {
   "cell_type": "code",
   "execution_count": 25,
   "metadata": {},
   "outputs": [
    {
     "name": "stdout",
     "output_type": "stream",
     "text": [
      "\n",
      "=========================Fold1============================\n",
      "\n",
      " RMSE score for Validation set is : 2542.5537739978754\n",
      "\n",
      "=========================Fold2============================\n",
      "\n",
      " RMSE score for Validation set is : 2524.0524075842413\n",
      "\n",
      "=========================Fold3============================\n",
      "\n",
      " RMSE score for Validation set is : 2535.4547541848965\n",
      "\n",
      "=========================Fold4============================\n",
      "\n",
      " RMSE score for Validation set is : 2536.8213874134744\n",
      "\n",
      "=========================Fold5============================\n",
      "\n",
      " RMSE score for Validation set is : 2524.064256567706\n",
      "\n",
      "\n",
      "RMSE score for oofs is 2532.600022947147\n",
      "Wall time: 10min 6s\n"
     ]
    }
   ],
   "source": [
    "%%time\n",
    "xgb_oofs, xgb_preds = boosting_cross_val(xgb, train_proc, test_proc, features, 'xgb')"
   ]
  },
  {
   "cell_type": "code",
   "execution_count": 26,
   "metadata": {},
   "outputs": [
    {
     "name": "stdout",
     "output_type": "stream",
     "text": [
      "\n",
      "=========================Fold1============================\n",
      "\n",
      " RMSE score for Validation set is : 2565.7218164117503\n",
      "\n",
      "=========================Fold2============================\n",
      "\n",
      " RMSE score for Validation set is : 2560.8281539235204\n",
      "\n",
      "=========================Fold3============================\n",
      "\n",
      " RMSE score for Validation set is : 2550.736109857578\n",
      "\n",
      "=========================Fold4============================\n",
      "\n",
      " RMSE score for Validation set is : 2555.1393489707098\n",
      "\n",
      "=========================Fold5============================\n",
      "\n",
      " RMSE score for Validation set is : 2556.7130225994224\n",
      "\n",
      "\n",
      "RMSE score for oofs is 2557.8327828493616\n",
      "Wall time: 24min 12s\n"
     ]
    }
   ],
   "source": [
    "%%time\n",
    "cat_oofs, cat_preds = boosting_cross_val(cat, train_proc, test_proc, features, 'cat')"
   ]
  },
  {
   "cell_type": "markdown",
   "metadata": {},
   "source": [
    "---\n",
    "# Feature Importance"
   ]
  },
  {
   "cell_type": "code",
   "execution_count": 28,
   "metadata": {},
   "outputs": [],
   "source": [
    "feature_imp = pd.DataFrame({'feature' : features, 'lgb_importance': lgb.feature_importances_, 'cat_importance': cat.feature_importances_, 'xgb_importance': xgb.feature_importances_})\n",
    "feature_imp['Mean_imp'] = feature_imp.apply(lambda x: (x['lgb_importance'] + x['cat_importance'] + x['xgb_importance']) / 3, axis = 1)\n",
    "\n",
    "###########\n",
    "\n",
    "lgb_imp = feature_imp.groupby('feature')['lgb_importance'].mean().sort_values(ascending = False)[:20][::-1]\n",
    "cat_imp = feature_imp.groupby('feature')['cat_importance'].mean().sort_values(ascending = False)[:20][::-1]\n",
    "xgb_imp = feature_imp.groupby('feature')['xgb_importance'].mean().sort_values(ascending = False)[:20][::-1]\n",
    "mean_imp = feature_imp.groupby('feature')['Mean_imp'].mean().sort_values(ascending = False)[:20][::-1]"
   ]
  },
  {
   "cell_type": "code",
   "execution_count": 29,
   "metadata": {},
   "outputs": [],
   "source": [
    "col_ls = [lgb_imp, cat_imp, xgb_imp, mean_imp]"
   ]
  },
  {
   "cell_type": "code",
   "execution_count": 30,
   "metadata": {},
   "outputs": [
    {
     "data": {
      "image/png": "[encoded data removed]",
      "text/plain": [
       "<Figure size 1440x720 with 4 Axes>"
      ]
     },
     "metadata": {},
     "output_type": "display_data"
    }
   ],
   "source": [
    "f, ax = plt.subplots(2, 2, figsize = (20,10))\n",
    "axx = ax.flatten()\n",
    "\n",
    "for index, col in enumerate(col_ls):\n",
    "    col.plot(kind = 'barh', ax = axx[index])\n",
    "    axx[index].set_title(feature_imp.columns[index+1])"
   ]
  },
  {
   "cell_type": "markdown",
   "metadata": {},
   "source": [
    "---\n",
    "# Feature Engineering\n"
   ]
  },
  {
   "cell_type": "code",
   "execution_count": 329,
   "metadata": {},
   "outputs": [],
   "source": [
    "# MODELS\n",
    "\n",
    "\n",
    "params = {'random_state' : 1999, 'colsample_bytree' : 0.7, 'max_depth': 18, 'n_estimators': 300, 'learning_rate': 0.2, 'num_leaves': 1779, 'min_child_samples': 181, 'reg_alpha': 3, 'reg_lambda': 1}\n",
    "lgb = LGBMRegressor(**params)\n",
    "\n",
    "\n",
    "params = {'random_state' : 1999, 'max_depth': 7, 'n_estimators': 496, 'learning_rate': 0.5604363463067941, 'colsample_bytree': 0.3320641259206344, 'reg_alpha': 7, 'reg_lambda': 6}\n",
    "xgb = XGBRegressor(**params)\n",
    "\n",
    "\n",
    "params = {'random_state' : 1999, 'max_depth': 11, 'n_estimators': 768, 'learning_rate': 0.19202927929990196, 'rsm': 0.9645427036490625, 'reg_lambda': 6}\n",
    "cat = CatBoostRegressor(verbose=False, **params)\n"
   ]
  },
  {
   "cell_type": "code",
   "execution_count": 330,
   "metadata": {},
   "outputs": [],
   "source": [
    "def helper(df, column_list):\n",
    "    for col in column_list:\n",
    "        train_proc[col] = df[: train.shape[0]][col].reset_index(drop = True)\n",
    "        test_proc[col] = df[train_proc.shape[0]:][col].reset_index(drop = True)\n",
    "        features = [col for col in train_proc.columns if col not in [target]]\n",
    "    return features"
   ]
  },
  {
   "cell_type": "markdown",
   "metadata": {},
   "source": [
    "### 1. Features from EDA"
   ]
  },
  {
   "cell_type": "code",
   "execution_count": 331,
   "metadata": {},
   "outputs": [],
   "source": [
    "df = pd.concat([train, test], axis = 0).reset_index(drop=True)"
   ]
  },
  {
   "cell_type": "code",
   "execution_count": 332,
   "metadata": {},
   "outputs": [],
   "source": [
    "# Does user belongs to working class or not\n",
    "df['is_working'] = df['Age'].apply(lambda x: 1 if (x!='0-17' and x!='55+' and x!='51-55' and x!='46-50') else 0)"
   ]
  },
  {
   "cell_type": "code",
   "execution_count": 333,
   "metadata": {},
   "outputs": [],
   "source": [
    "# Does particular product_cat_1 is popular or not\n",
    "df['is_popular'] = df['Product_Category_1'].apply(lambda x: 1 if x in [1,5,8] else 0)"
   ]
  },
  {
   "cell_type": "code",
   "execution_count": 334,
   "metadata": {},
   "outputs": [],
   "source": [
    "col_ls = ['is_working', 'is_popular', ]\n",
    "\n",
    "features = helper(df, col_ls)"
   ]
  },
  {
   "cell_type": "code",
   "execution_count": 309,
   "metadata": {
    "collapsed": true
   },
   "outputs": [
    {
     "name": "stdout",
     "output_type": "stream",
     "text": [
      "\n",
      "=========================Fold1============================\n"
     ]
    },
    {
     "ename": "ValueError",
     "evalue": "could not convert string to float: 'A'",
     "output_type": "error",
     "traceback": [
      "\u001b[1;31m---------------------------------------------------------------------------\u001b[0m",
      "\u001b[1;31mValueError\u001b[0m                                Traceback (most recent call last)",
      "\u001b[1;32m<ipython-input-309-2c138345e8d0>\u001b[0m in \u001b[0;36m<module>\u001b[1;34m\u001b[0m\n\u001b[1;32m----> 1\u001b[1;33m \u001b[0mfe_lgb_base_oofs\u001b[0m\u001b[1;33m,\u001b[0m \u001b[0mfe_lgb_base_preds\u001b[0m \u001b[1;33m=\u001b[0m \u001b[0mboosting_cross_val\u001b[0m\u001b[1;33m(\u001b[0m\u001b[0mlgb\u001b[0m\u001b[1;33m,\u001b[0m \u001b[0mtrain_proc\u001b[0m\u001b[1;33m,\u001b[0m \u001b[0mtest_proc\u001b[0m\u001b[1;33m,\u001b[0m \u001b[0mfeatures\u001b[0m\u001b[1;33m,\u001b[0m \u001b[1;34m'lgb'\u001b[0m\u001b[1;33m)\u001b[0m\u001b[1;33m\u001b[0m\u001b[1;33m\u001b[0m\u001b[0m\n\u001b[0m\u001b[0;32m      2\u001b[0m \u001b[1;33m\u001b[0m\u001b[0m\n\u001b[0;32m      3\u001b[0m \u001b[0msample_sub\u001b[0m\u001b[1;33m[\u001b[0m\u001b[1;34m'Purchase'\u001b[0m\u001b[1;33m]\u001b[0m \u001b[1;33m=\u001b[0m \u001b[0mfe_lgb_base_preds\u001b[0m\u001b[1;33m\u001b[0m\u001b[1;33m\u001b[0m\u001b[0m\n\u001b[0;32m      4\u001b[0m \u001b[0msample_sub\u001b[0m\u001b[1;33m.\u001b[0m\u001b[0mto_csv\u001b[0m\u001b[1;33m(\u001b[0m\u001b[1;34mr\"D:\\Data Science\\Projects\\Analytics vidya\\Black Friday Sales Prediction\\Feature_Engineering.csv\"\u001b[0m\u001b[1;33m,\u001b[0m \u001b[0mindex\u001b[0m \u001b[1;33m=\u001b[0m \u001b[1;32mFalse\u001b[0m\u001b[1;33m)\u001b[0m\u001b[1;33m\u001b[0m\u001b[1;33m\u001b[0m\u001b[0m\n",
      "\u001b[1;32m<ipython-input-23-f71f88e96215>\u001b[0m in \u001b[0;36mboosting_cross_val\u001b[1;34m(regressor, train, test, features, name)\u001b[0m\n\u001b[0;32m     27\u001b[0m             \u001b[1;31m###### Scaling Data ######\u001b[0m\u001b[1;33m\u001b[0m\u001b[1;33m\u001b[0m\u001b[1;33m\u001b[0m\u001b[0m\n\u001b[0;32m     28\u001b[0m             \u001b[0mscaler\u001b[0m \u001b[1;33m=\u001b[0m \u001b[0mStandardScaler\u001b[0m\u001b[1;33m(\u001b[0m\u001b[1;33m)\u001b[0m\u001b[1;33m\u001b[0m\u001b[1;33m\u001b[0m\u001b[0m\n\u001b[1;32m---> 29\u001b[1;33m             \u001b[0m_\u001b[0m \u001b[1;33m=\u001b[0m \u001b[0mscaler\u001b[0m\u001b[1;33m.\u001b[0m\u001b[0mfit\u001b[0m\u001b[1;33m(\u001b[0m\u001b[0mX_trn\u001b[0m\u001b[1;33m)\u001b[0m\u001b[1;33m\u001b[0m\u001b[1;33m\u001b[0m\u001b[0m\n\u001b[0m\u001b[0;32m     30\u001b[0m \u001b[1;33m\u001b[0m\u001b[0m\n\u001b[0;32m     31\u001b[0m             \u001b[0mX_trn\u001b[0m \u001b[1;33m=\u001b[0m \u001b[0mscaler\u001b[0m\u001b[1;33m.\u001b[0m\u001b[0mtransform\u001b[0m\u001b[1;33m(\u001b[0m\u001b[0mX_trn\u001b[0m\u001b[1;33m)\u001b[0m\u001b[1;33m\u001b[0m\u001b[1;33m\u001b[0m\u001b[0m\n",
      "\u001b[1;32m~\\anaconda3\\lib\\site-packages\\sklearn\\preprocessing\\_data.py\u001b[0m in \u001b[0;36mfit\u001b[1;34m(self, X, y)\u001b[0m\n\u001b[0;32m    665\u001b[0m         \u001b[1;31m# Reset internal state before fitting\u001b[0m\u001b[1;33m\u001b[0m\u001b[1;33m\u001b[0m\u001b[1;33m\u001b[0m\u001b[0m\n\u001b[0;32m    666\u001b[0m         \u001b[0mself\u001b[0m\u001b[1;33m.\u001b[0m\u001b[0m_reset\u001b[0m\u001b[1;33m(\u001b[0m\u001b[1;33m)\u001b[0m\u001b[1;33m\u001b[0m\u001b[1;33m\u001b[0m\u001b[0m\n\u001b[1;32m--> 667\u001b[1;33m         \u001b[1;32mreturn\u001b[0m \u001b[0mself\u001b[0m\u001b[1;33m.\u001b[0m\u001b[0mpartial_fit\u001b[0m\u001b[1;33m(\u001b[0m\u001b[0mX\u001b[0m\u001b[1;33m,\u001b[0m \u001b[0my\u001b[0m\u001b[1;33m)\u001b[0m\u001b[1;33m\u001b[0m\u001b[1;33m\u001b[0m\u001b[0m\n\u001b[0m\u001b[0;32m    668\u001b[0m \u001b[1;33m\u001b[0m\u001b[0m\n\u001b[0;32m    669\u001b[0m     \u001b[1;32mdef\u001b[0m \u001b[0mpartial_fit\u001b[0m\u001b[1;33m(\u001b[0m\u001b[0mself\u001b[0m\u001b[1;33m,\u001b[0m \u001b[0mX\u001b[0m\u001b[1;33m,\u001b[0m \u001b[0my\u001b[0m\u001b[1;33m=\u001b[0m\u001b[1;32mNone\u001b[0m\u001b[1;33m)\u001b[0m\u001b[1;33m:\u001b[0m\u001b[1;33m\u001b[0m\u001b[1;33m\u001b[0m\u001b[0m\n",
      "\u001b[1;32m~\\anaconda3\\lib\\site-packages\\sklearn\\preprocessing\\_data.py\u001b[0m in \u001b[0;36mpartial_fit\u001b[1;34m(self, X, y)\u001b[0m\n\u001b[0;32m    696\u001b[0m         X = self._validate_data(X, accept_sparse=('csr', 'csc'),\n\u001b[0;32m    697\u001b[0m                                 \u001b[0mestimator\u001b[0m\u001b[1;33m=\u001b[0m\u001b[0mself\u001b[0m\u001b[1;33m,\u001b[0m \u001b[0mdtype\u001b[0m\u001b[1;33m=\u001b[0m\u001b[0mFLOAT_DTYPES\u001b[0m\u001b[1;33m,\u001b[0m\u001b[1;33m\u001b[0m\u001b[1;33m\u001b[0m\u001b[0m\n\u001b[1;32m--> 698\u001b[1;33m                                 force_all_finite='allow-nan')\n\u001b[0m\u001b[0;32m    699\u001b[0m \u001b[1;33m\u001b[0m\u001b[0m\n\u001b[0;32m    700\u001b[0m         \u001b[1;31m# Even in the case of `with_mean=False`, we update the mean anyway\u001b[0m\u001b[1;33m\u001b[0m\u001b[1;33m\u001b[0m\u001b[1;33m\u001b[0m\u001b[0m\n",
      "\u001b[1;32m~\\anaconda3\\lib\\site-packages\\sklearn\\base.py\u001b[0m in \u001b[0;36m_validate_data\u001b[1;34m(self, X, y, reset, validate_separately, **check_params)\u001b[0m\n\u001b[0;32m    418\u001b[0m                     \u001b[1;34mf\"requires y to be passed, but the target y is None.\"\u001b[0m\u001b[1;33m\u001b[0m\u001b[1;33m\u001b[0m\u001b[0m\n\u001b[0;32m    419\u001b[0m                 )\n\u001b[1;32m--> 420\u001b[1;33m             \u001b[0mX\u001b[0m \u001b[1;33m=\u001b[0m \u001b[0mcheck_array\u001b[0m\u001b[1;33m(\u001b[0m\u001b[0mX\u001b[0m\u001b[1;33m,\u001b[0m \u001b[1;33m**\u001b[0m\u001b[0mcheck_params\u001b[0m\u001b[1;33m)\u001b[0m\u001b[1;33m\u001b[0m\u001b[1;33m\u001b[0m\u001b[0m\n\u001b[0m\u001b[0;32m    421\u001b[0m             \u001b[0mout\u001b[0m \u001b[1;33m=\u001b[0m \u001b[0mX\u001b[0m\u001b[1;33m\u001b[0m\u001b[1;33m\u001b[0m\u001b[0m\n\u001b[0;32m    422\u001b[0m         \u001b[1;32melse\u001b[0m\u001b[1;33m:\u001b[0m\u001b[1;33m\u001b[0m\u001b[1;33m\u001b[0m\u001b[0m\n",
      "\u001b[1;32m~\\anaconda3\\lib\\site-packages\\sklearn\\utils\\validation.py\u001b[0m in \u001b[0;36minner_f\u001b[1;34m(*args, **kwargs)\u001b[0m\n\u001b[0;32m     70\u001b[0m                           FutureWarning)\n\u001b[0;32m     71\u001b[0m         \u001b[0mkwargs\u001b[0m\u001b[1;33m.\u001b[0m\u001b[0mupdate\u001b[0m\u001b[1;33m(\u001b[0m\u001b[1;33m{\u001b[0m\u001b[0mk\u001b[0m\u001b[1;33m:\u001b[0m \u001b[0marg\u001b[0m \u001b[1;32mfor\u001b[0m \u001b[0mk\u001b[0m\u001b[1;33m,\u001b[0m \u001b[0marg\u001b[0m \u001b[1;32min\u001b[0m \u001b[0mzip\u001b[0m\u001b[1;33m(\u001b[0m\u001b[0msig\u001b[0m\u001b[1;33m.\u001b[0m\u001b[0mparameters\u001b[0m\u001b[1;33m,\u001b[0m \u001b[0margs\u001b[0m\u001b[1;33m)\u001b[0m\u001b[1;33m}\u001b[0m\u001b[1;33m)\u001b[0m\u001b[1;33m\u001b[0m\u001b[1;33m\u001b[0m\u001b[0m\n\u001b[1;32m---> 72\u001b[1;33m         \u001b[1;32mreturn\u001b[0m \u001b[0mf\u001b[0m\u001b[1;33m(\u001b[0m\u001b[1;33m**\u001b[0m\u001b[0mkwargs\u001b[0m\u001b[1;33m)\u001b[0m\u001b[1;33m\u001b[0m\u001b[1;33m\u001b[0m\u001b[0m\n\u001b[0m\u001b[0;32m     73\u001b[0m     \u001b[1;32mreturn\u001b[0m \u001b[0minner_f\u001b[0m\u001b[1;33m\u001b[0m\u001b[1;33m\u001b[0m\u001b[0m\n\u001b[0;32m     74\u001b[0m \u001b[1;33m\u001b[0m\u001b[0m\n",
      "\u001b[1;32m~\\anaconda3\\lib\\site-packages\\sklearn\\utils\\validation.py\u001b[0m in \u001b[0;36mcheck_array\u001b[1;34m(array, accept_sparse, accept_large_sparse, dtype, order, copy, force_all_finite, ensure_2d, allow_nd, ensure_min_samples, ensure_min_features, estimator)\u001b[0m\n\u001b[0;32m    596\u001b[0m                     \u001b[0marray\u001b[0m \u001b[1;33m=\u001b[0m \u001b[0marray\u001b[0m\u001b[1;33m.\u001b[0m\u001b[0mastype\u001b[0m\u001b[1;33m(\u001b[0m\u001b[0mdtype\u001b[0m\u001b[1;33m,\u001b[0m \u001b[0mcasting\u001b[0m\u001b[1;33m=\u001b[0m\u001b[1;34m\"unsafe\"\u001b[0m\u001b[1;33m,\u001b[0m \u001b[0mcopy\u001b[0m\u001b[1;33m=\u001b[0m\u001b[1;32mFalse\u001b[0m\u001b[1;33m)\u001b[0m\u001b[1;33m\u001b[0m\u001b[1;33m\u001b[0m\u001b[0m\n\u001b[0;32m    597\u001b[0m                 \u001b[1;32melse\u001b[0m\u001b[1;33m:\u001b[0m\u001b[1;33m\u001b[0m\u001b[1;33m\u001b[0m\u001b[0m\n\u001b[1;32m--> 598\u001b[1;33m                     \u001b[0marray\u001b[0m \u001b[1;33m=\u001b[0m \u001b[0mnp\u001b[0m\u001b[1;33m.\u001b[0m\u001b[0masarray\u001b[0m\u001b[1;33m(\u001b[0m\u001b[0marray\u001b[0m\u001b[1;33m,\u001b[0m \u001b[0morder\u001b[0m\u001b[1;33m=\u001b[0m\u001b[0morder\u001b[0m\u001b[1;33m,\u001b[0m \u001b[0mdtype\u001b[0m\u001b[1;33m=\u001b[0m\u001b[0mdtype\u001b[0m\u001b[1;33m)\u001b[0m\u001b[1;33m\u001b[0m\u001b[1;33m\u001b[0m\u001b[0m\n\u001b[0m\u001b[0;32m    599\u001b[0m             \u001b[1;32mexcept\u001b[0m \u001b[0mComplexWarning\u001b[0m\u001b[1;33m:\u001b[0m\u001b[1;33m\u001b[0m\u001b[1;33m\u001b[0m\u001b[0m\n\u001b[0;32m    600\u001b[0m                 raise ValueError(\"Complex data not supported\\n\"\n",
      "\u001b[1;32m~\\anaconda3\\lib\\site-packages\\numpy\\core\\_asarray.py\u001b[0m in \u001b[0;36masarray\u001b[1;34m(a, dtype, order)\u001b[0m\n\u001b[0;32m     83\u001b[0m \u001b[1;33m\u001b[0m\u001b[0m\n\u001b[0;32m     84\u001b[0m     \"\"\"\n\u001b[1;32m---> 85\u001b[1;33m     \u001b[1;32mreturn\u001b[0m \u001b[0marray\u001b[0m\u001b[1;33m(\u001b[0m\u001b[0ma\u001b[0m\u001b[1;33m,\u001b[0m \u001b[0mdtype\u001b[0m\u001b[1;33m,\u001b[0m \u001b[0mcopy\u001b[0m\u001b[1;33m=\u001b[0m\u001b[1;32mFalse\u001b[0m\u001b[1;33m,\u001b[0m \u001b[0morder\u001b[0m\u001b[1;33m=\u001b[0m\u001b[0morder\u001b[0m\u001b[1;33m)\u001b[0m\u001b[1;33m\u001b[0m\u001b[1;33m\u001b[0m\u001b[0m\n\u001b[0m\u001b[0;32m     86\u001b[0m \u001b[1;33m\u001b[0m\u001b[0m\n\u001b[0;32m     87\u001b[0m \u001b[1;33m\u001b[0m\u001b[0m\n",
      "\u001b[1;31mValueError\u001b[0m: could not convert string to float: 'A'"
     ]
    }
   ],
   "source": [
    "fe_lgb_base_oofs, fe_lgb_base_preds = boosting_cross_val(lgb, train_proc, test_proc, features, 'lgb')\n",
    "\n",
    "sample_sub['Purchase'] = fe_lgb_base_preds\n",
    "sample_sub.to_csv(r\"D:\\Data Science\\Projects\\Analytics vidya\\Black Friday Sales Prediction\\Feature_Engineering.csv\", index = False)"
   ]
  },
  {
   "cell_type": "code",
   "execution_count": 335,
   "metadata": {},
   "outputs": [],
   "source": [
    "female_prod_ls = list(set(df[ df['Gender'] == 'F']['Product_ID'].to_list()))\n",
    "male_prod_ls = list(set(df[ df['Gender'] == 'M']['Product_ID'].to_list()))\n",
    "\n",
    "female_products = list(np.setdiff1d(female_prod_ls, male_prod_ls))\n",
    "male_products = list(np.setdiff1d( male_prod_ls, female_prod_ls))\n",
    "\n",
    "# Does only females are buying particluar product_id\n",
    "df['is_female_product'] = df['Product_ID'].apply(lambda x: 1 if x in female_products else 0)\n",
    "\n",
    "# Does only males are buying particluar product_id\n",
    "df['is_male_product'] = df['Product_ID'].apply(lambda x: 1 if x in male_products else 0)"
   ]
  },
  {
   "cell_type": "code",
   "execution_count": 336,
   "metadata": {},
   "outputs": [],
   "source": [
    "col_ls = ['is_female_product', 'is_male_product']\n",
    "\n",
    "features = helper(df, col_ls)"
   ]
  },
  {
   "cell_type": "code",
   "execution_count": 68,
   "metadata": {
    "collapsed": true
   },
   "outputs": [
    {
     "name": "stdout",
     "output_type": "stream",
     "text": [
      "\n",
      "=========================Fold1============================\n",
      "\n",
      " RMSE score for Validation set is : 2527.5967491567926\n",
      "\n",
      "=========================Fold2============================\n",
      "\n",
      " RMSE score for Validation set is : 2553.998237429995\n",
      "\n",
      "=========================Fold3============================\n",
      "\n",
      " RMSE score for Validation set is : 2555.2751088926425\n",
      "\n",
      "=========================Fold4============================\n",
      "\n",
      " RMSE score for Validation set is : 2549.0897474830795\n",
      "\n",
      "=========================Fold5============================\n",
      "\n",
      " RMSE score for Validation set is : 2543.7780137319023\n",
      "\n",
      "\n",
      "RMSE score for oofs is 2545.967332304913\n"
     ]
    }
   ],
   "source": [
    "fe_lgb_base_oofs, fe_lgb_base_preds = boosting_cross_val(lgb, train_proc, test_proc, features, 'lgb')"
   ]
  },
  {
   "cell_type": "code",
   "execution_count": 69,
   "metadata": {},
   "outputs": [],
   "source": [
    "sample_sub['Purchase'] = fe_lgb_base_preds\n",
    "sample_sub.to_csv(r\"D:\\Data Science\\Projects\\Analytics vidya\\Black Friday Sales Prediction\\Feature_Engineering.csv\", index = False)"
   ]
  },
  {
   "cell_type": "markdown",
   "metadata": {},
   "source": [
    "---\n",
    "### 2. Grouping Features"
   ]
  },
  {
   "cell_type": "code",
   "execution_count": 337,
   "metadata": {},
   "outputs": [],
   "source": [
    "# Number of unique product id's per user\n",
    "df['Users_unique_products'] = df.groupby('User_ID')['Product_ID'].transform('nunique')\n",
    "\n",
    "# Number of unique users per product_id\n",
    "df['Products_unique_users'] = df.groupby('Product_ID')['User_ID'].transform('nunique')\n",
    "\n",
    "# Number of unique products per city\n",
    "df['Citys_unique_products'] = df.groupby('City_Category')['Product_ID'].transform('nunique')\n",
    "\n",
    "# Number of unique products per Age_group\n",
    "df['Age_unique_products'] = df.groupby('Age')['Product_ID'].transform('nunique')\n",
    "\n",
    "# Number of unique Users per Age_group\n",
    "df['Age_unique_users'] = df.groupby('Age')['User_ID'].transform('nunique')\n",
    "\n",
    "# Number of unique Products per Occupation\n",
    "df['Occupation_unique_products'] = df.groupby('Occupation')['Product_ID'].transform('nunique')\n",
    "\n",
    "# Number of unique Users per Occupation\n",
    "df['Occupation_unique_users'] = df.groupby('Occupation')['User_ID'].transform('nunique')"
   ]
  },
  {
   "cell_type": "code",
   "execution_count": 338,
   "metadata": {},
   "outputs": [],
   "source": [
    "df['Users_Mean_Purchase'] = df.groupby('User_ID')['Purchase'].transform('mean')\n",
    "df['Users_Median_Purchase'] = df.groupby('User_ID')['Purchase'].transform('median')\n",
    "df['Products_Mean_Purchase'] = df.groupby('Product_ID')['Purchase'].transform('mean')\n",
    "df['Products_Median_Purchase'] = df.groupby('Product_ID')['Purchase'].transform('median')\n",
    "\n",
    "df['Product_Category_1_Mean_Purchase'] = df.groupby('Product_Category_1')['Purchase'].transform('mean')\n",
    "df['Product_Category_1_Median_Purchase'] = df.groupby('Product_Category_1')['Purchase'].transform('median')\n",
    "\n",
    "#df['Product_Category_2_Mean_Purchase'] = df.groupby('Product_Category_2')['Purchase'].transform('mean')\n",
    "#df['Product_Category_2_Median_Purchase'] = df.groupby('Product_Category_2')['Purchase'].transform('median')\n",
    "\n",
    "#df['Product_Category_3_Mean_Purchase'] = df.groupby('Product_Category_3')['Purchase'].transform('mean')\n",
    "#df['Product_Category_3_Median_Purchase'] = df.groupby('Product_Category_3')['Purchase'].transform('median')\n",
    "\n"
   ]
  },
  {
   "cell_type": "code",
   "execution_count": 339,
   "metadata": {},
   "outputs": [],
   "source": [
    "col_ls = ['Users_unique_products', 'Products_unique_users', 'Citys_unique_products', 'Age_unique_products', 'Age_unique_users',\n",
    " 'Occupation_unique_products', 'Occupation_unique_users','Users_Mean_Purchase', 'Users_Median_Purchase', 'Products_Mean_Purchase', 'Products_Median_Purchase',\n",
    "         'Product_Category_1_Mean_Purchase', 'Product_Category_1_Median_Purchase']\n",
    "\n",
    "features = helper(df, col_ls)"
   ]
  },
  {
   "cell_type": "code",
   "execution_count": 227,
   "metadata": {},
   "outputs": [],
   "source": [
    "#df['Users_Total_Purchase'] = df.groupby('User_ID')['Purchase'].transform('sum')\n",
    "#df['Products_Total_Purchase'] = df.groupby('Product_ID')['Purchase'].transform('sum')\n",
    "\n",
    "#df['Users_Minimum_Purchase'] = df.groupby('User_ID')['Purchase'].transform('min')\n",
    "#df['Products_Minimum_Purchase'] = df.groupby('Product_ID')['Purchase'].transform('min')\n",
    "\n",
    "#df['Users_Maximum_Purchase'] = df.groupby('User_ID')['Purchase'].transform('max')\n",
    "#df['Products_Maximum_Purchase'] = df.groupby('Product_ID')['Purchase'].transform('max')\n"
   ]
  },
  {
   "cell_type": "code",
   "execution_count": 252,
   "metadata": {
    "collapsed": true
   },
   "outputs": [
    {
     "ename": "KeyError",
     "evalue": "'Users_Total_Purchase'",
     "output_type": "error",
     "traceback": [
      "\u001b[1;31m---------------------------------------------------------------------------\u001b[0m",
      "\u001b[1;31mKeyError\u001b[0m                                  Traceback (most recent call last)",
      "\u001b[1;32m~\\anaconda3\\lib\\site-packages\\pandas\\core\\indexes\\base.py\u001b[0m in \u001b[0;36mget_loc\u001b[1;34m(self, key, method, tolerance)\u001b[0m\n\u001b[0;32m   2645\u001b[0m             \u001b[1;32mtry\u001b[0m\u001b[1;33m:\u001b[0m\u001b[1;33m\u001b[0m\u001b[1;33m\u001b[0m\u001b[0m\n\u001b[1;32m-> 2646\u001b[1;33m                 \u001b[1;32mreturn\u001b[0m \u001b[0mself\u001b[0m\u001b[1;33m.\u001b[0m\u001b[0m_engine\u001b[0m\u001b[1;33m.\u001b[0m\u001b[0mget_loc\u001b[0m\u001b[1;33m(\u001b[0m\u001b[0mkey\u001b[0m\u001b[1;33m)\u001b[0m\u001b[1;33m\u001b[0m\u001b[1;33m\u001b[0m\u001b[0m\n\u001b[0m\u001b[0;32m   2647\u001b[0m             \u001b[1;32mexcept\u001b[0m \u001b[0mKeyError\u001b[0m\u001b[1;33m:\u001b[0m\u001b[1;33m\u001b[0m\u001b[1;33m\u001b[0m\u001b[0m\n",
      "\u001b[1;32mpandas\\_libs\\index.pyx\u001b[0m in \u001b[0;36mpandas._libs.index.IndexEngine.get_loc\u001b[1;34m()\u001b[0m\n",
      "\u001b[1;32mpandas\\_libs\\index.pyx\u001b[0m in \u001b[0;36mpandas._libs.index.IndexEngine.get_loc\u001b[1;34m()\u001b[0m\n",
      "\u001b[1;32mpandas\\_libs\\hashtable_class_helper.pxi\u001b[0m in \u001b[0;36mpandas._libs.hashtable.PyObjectHashTable.get_item\u001b[1;34m()\u001b[0m\n",
      "\u001b[1;32mpandas\\_libs\\hashtable_class_helper.pxi\u001b[0m in \u001b[0;36mpandas._libs.hashtable.PyObjectHashTable.get_item\u001b[1;34m()\u001b[0m\n",
      "\u001b[1;31mKeyError\u001b[0m: 'Users_Total_Purchase'",
      "\nDuring handling of the above exception, another exception occurred:\n",
      "\u001b[1;31mKeyError\u001b[0m                                  Traceback (most recent call last)",
      "\u001b[1;32m<ipython-input-252-70196fd571ec>\u001b[0m in \u001b[0;36m<module>\u001b[1;34m\u001b[0m\n\u001b[0;32m      2\u001b[0m          'Users_Maximum_Purchase', 'Products_Maximum_Purchase']\n\u001b[0;32m      3\u001b[0m \u001b[1;33m\u001b[0m\u001b[0m\n\u001b[1;32m----> 4\u001b[1;33m \u001b[0mfeatures\u001b[0m \u001b[1;33m=\u001b[0m \u001b[0mhelper\u001b[0m\u001b[1;33m(\u001b[0m\u001b[0mdf\u001b[0m\u001b[1;33m,\u001b[0m \u001b[0mcol_ls\u001b[0m\u001b[1;33m)\u001b[0m\u001b[1;33m\u001b[0m\u001b[1;33m\u001b[0m\u001b[0m\n\u001b[0m",
      "\u001b[1;32m<ipython-input-241-ae9f6f7810c0>\u001b[0m in \u001b[0;36mhelper\u001b[1;34m(df, column_list)\u001b[0m\n\u001b[0;32m      1\u001b[0m \u001b[1;32mdef\u001b[0m \u001b[0mhelper\u001b[0m\u001b[1;33m(\u001b[0m\u001b[0mdf\u001b[0m\u001b[1;33m,\u001b[0m \u001b[0mcolumn_list\u001b[0m\u001b[1;33m)\u001b[0m\u001b[1;33m:\u001b[0m\u001b[1;33m\u001b[0m\u001b[1;33m\u001b[0m\u001b[0m\n\u001b[0;32m      2\u001b[0m     \u001b[1;32mfor\u001b[0m \u001b[0mcol\u001b[0m \u001b[1;32min\u001b[0m \u001b[0mcolumn_list\u001b[0m\u001b[1;33m:\u001b[0m\u001b[1;33m\u001b[0m\u001b[1;33m\u001b[0m\u001b[0m\n\u001b[1;32m----> 3\u001b[1;33m         \u001b[0mtrain_proc\u001b[0m\u001b[1;33m[\u001b[0m\u001b[0mcol\u001b[0m\u001b[1;33m]\u001b[0m \u001b[1;33m=\u001b[0m \u001b[0mdf\u001b[0m\u001b[1;33m[\u001b[0m\u001b[1;33m:\u001b[0m \u001b[0mtrain\u001b[0m\u001b[1;33m.\u001b[0m\u001b[0mshape\u001b[0m\u001b[1;33m[\u001b[0m\u001b[1;36m0\u001b[0m\u001b[1;33m]\u001b[0m\u001b[1;33m]\u001b[0m\u001b[1;33m[\u001b[0m\u001b[0mcol\u001b[0m\u001b[1;33m]\u001b[0m\u001b[1;33m.\u001b[0m\u001b[0mreset_index\u001b[0m\u001b[1;33m(\u001b[0m\u001b[0mdrop\u001b[0m \u001b[1;33m=\u001b[0m \u001b[1;32mTrue\u001b[0m\u001b[1;33m)\u001b[0m\u001b[1;33m\u001b[0m\u001b[1;33m\u001b[0m\u001b[0m\n\u001b[0m\u001b[0;32m      4\u001b[0m         \u001b[0mtest_proc\u001b[0m\u001b[1;33m[\u001b[0m\u001b[0mcol\u001b[0m\u001b[1;33m]\u001b[0m \u001b[1;33m=\u001b[0m \u001b[0mdf\u001b[0m\u001b[1;33m[\u001b[0m\u001b[0mtrain_proc\u001b[0m\u001b[1;33m.\u001b[0m\u001b[0mshape\u001b[0m\u001b[1;33m[\u001b[0m\u001b[1;36m0\u001b[0m\u001b[1;33m]\u001b[0m\u001b[1;33m:\u001b[0m\u001b[1;33m]\u001b[0m\u001b[1;33m[\u001b[0m\u001b[0mcol\u001b[0m\u001b[1;33m]\u001b[0m\u001b[1;33m.\u001b[0m\u001b[0mreset_index\u001b[0m\u001b[1;33m(\u001b[0m\u001b[0mdrop\u001b[0m \u001b[1;33m=\u001b[0m \u001b[1;32mTrue\u001b[0m\u001b[1;33m)\u001b[0m\u001b[1;33m\u001b[0m\u001b[1;33m\u001b[0m\u001b[0m\n\u001b[0;32m      5\u001b[0m         \u001b[0mfeatures\u001b[0m \u001b[1;33m=\u001b[0m \u001b[1;33m[\u001b[0m\u001b[0mcol\u001b[0m \u001b[1;32mfor\u001b[0m \u001b[0mcol\u001b[0m \u001b[1;32min\u001b[0m \u001b[0mtrain_proc\u001b[0m\u001b[1;33m.\u001b[0m\u001b[0mcolumns\u001b[0m \u001b[1;32mif\u001b[0m \u001b[0mcol\u001b[0m \u001b[1;32mnot\u001b[0m \u001b[1;32min\u001b[0m \u001b[1;33m[\u001b[0m\u001b[0mtarget\u001b[0m\u001b[1;33m]\u001b[0m\u001b[1;33m]\u001b[0m\u001b[1;33m\u001b[0m\u001b[1;33m\u001b[0m\u001b[0m\n",
      "\u001b[1;32m~\\anaconda3\\lib\\site-packages\\pandas\\core\\frame.py\u001b[0m in \u001b[0;36m__getitem__\u001b[1;34m(self, key)\u001b[0m\n\u001b[0;32m   2798\u001b[0m             \u001b[1;32mif\u001b[0m \u001b[0mself\u001b[0m\u001b[1;33m.\u001b[0m\u001b[0mcolumns\u001b[0m\u001b[1;33m.\u001b[0m\u001b[0mnlevels\u001b[0m \u001b[1;33m>\u001b[0m \u001b[1;36m1\u001b[0m\u001b[1;33m:\u001b[0m\u001b[1;33m\u001b[0m\u001b[1;33m\u001b[0m\u001b[0m\n\u001b[0;32m   2799\u001b[0m                 \u001b[1;32mreturn\u001b[0m \u001b[0mself\u001b[0m\u001b[1;33m.\u001b[0m\u001b[0m_getitem_multilevel\u001b[0m\u001b[1;33m(\u001b[0m\u001b[0mkey\u001b[0m\u001b[1;33m)\u001b[0m\u001b[1;33m\u001b[0m\u001b[1;33m\u001b[0m\u001b[0m\n\u001b[1;32m-> 2800\u001b[1;33m             \u001b[0mindexer\u001b[0m \u001b[1;33m=\u001b[0m \u001b[0mself\u001b[0m\u001b[1;33m.\u001b[0m\u001b[0mcolumns\u001b[0m\u001b[1;33m.\u001b[0m\u001b[0mget_loc\u001b[0m\u001b[1;33m(\u001b[0m\u001b[0mkey\u001b[0m\u001b[1;33m)\u001b[0m\u001b[1;33m\u001b[0m\u001b[1;33m\u001b[0m\u001b[0m\n\u001b[0m\u001b[0;32m   2801\u001b[0m             \u001b[1;32mif\u001b[0m \u001b[0mis_integer\u001b[0m\u001b[1;33m(\u001b[0m\u001b[0mindexer\u001b[0m\u001b[1;33m)\u001b[0m\u001b[1;33m:\u001b[0m\u001b[1;33m\u001b[0m\u001b[1;33m\u001b[0m\u001b[0m\n\u001b[0;32m   2802\u001b[0m                 \u001b[0mindexer\u001b[0m \u001b[1;33m=\u001b[0m \u001b[1;33m[\u001b[0m\u001b[0mindexer\u001b[0m\u001b[1;33m]\u001b[0m\u001b[1;33m\u001b[0m\u001b[1;33m\u001b[0m\u001b[0m\n",
      "\u001b[1;32m~\\anaconda3\\lib\\site-packages\\pandas\\core\\indexes\\base.py\u001b[0m in \u001b[0;36mget_loc\u001b[1;34m(self, key, method, tolerance)\u001b[0m\n\u001b[0;32m   2646\u001b[0m                 \u001b[1;32mreturn\u001b[0m \u001b[0mself\u001b[0m\u001b[1;33m.\u001b[0m\u001b[0m_engine\u001b[0m\u001b[1;33m.\u001b[0m\u001b[0mget_loc\u001b[0m\u001b[1;33m(\u001b[0m\u001b[0mkey\u001b[0m\u001b[1;33m)\u001b[0m\u001b[1;33m\u001b[0m\u001b[1;33m\u001b[0m\u001b[0m\n\u001b[0;32m   2647\u001b[0m             \u001b[1;32mexcept\u001b[0m \u001b[0mKeyError\u001b[0m\u001b[1;33m:\u001b[0m\u001b[1;33m\u001b[0m\u001b[1;33m\u001b[0m\u001b[0m\n\u001b[1;32m-> 2648\u001b[1;33m                 \u001b[1;32mreturn\u001b[0m \u001b[0mself\u001b[0m\u001b[1;33m.\u001b[0m\u001b[0m_engine\u001b[0m\u001b[1;33m.\u001b[0m\u001b[0mget_loc\u001b[0m\u001b[1;33m(\u001b[0m\u001b[0mself\u001b[0m\u001b[1;33m.\u001b[0m\u001b[0m_maybe_cast_indexer\u001b[0m\u001b[1;33m(\u001b[0m\u001b[0mkey\u001b[0m\u001b[1;33m)\u001b[0m\u001b[1;33m)\u001b[0m\u001b[1;33m\u001b[0m\u001b[1;33m\u001b[0m\u001b[0m\n\u001b[0m\u001b[0;32m   2649\u001b[0m         \u001b[0mindexer\u001b[0m \u001b[1;33m=\u001b[0m \u001b[0mself\u001b[0m\u001b[1;33m.\u001b[0m\u001b[0mget_indexer\u001b[0m\u001b[1;33m(\u001b[0m\u001b[1;33m[\u001b[0m\u001b[0mkey\u001b[0m\u001b[1;33m]\u001b[0m\u001b[1;33m,\u001b[0m \u001b[0mmethod\u001b[0m\u001b[1;33m=\u001b[0m\u001b[0mmethod\u001b[0m\u001b[1;33m,\u001b[0m \u001b[0mtolerance\u001b[0m\u001b[1;33m=\u001b[0m\u001b[0mtolerance\u001b[0m\u001b[1;33m)\u001b[0m\u001b[1;33m\u001b[0m\u001b[1;33m\u001b[0m\u001b[0m\n\u001b[0;32m   2650\u001b[0m         \u001b[1;32mif\u001b[0m \u001b[0mindexer\u001b[0m\u001b[1;33m.\u001b[0m\u001b[0mndim\u001b[0m \u001b[1;33m>\u001b[0m \u001b[1;36m1\u001b[0m \u001b[1;32mor\u001b[0m \u001b[0mindexer\u001b[0m\u001b[1;33m.\u001b[0m\u001b[0msize\u001b[0m \u001b[1;33m>\u001b[0m \u001b[1;36m1\u001b[0m\u001b[1;33m:\u001b[0m\u001b[1;33m\u001b[0m\u001b[1;33m\u001b[0m\u001b[0m\n",
      "\u001b[1;32mpandas\\_libs\\index.pyx\u001b[0m in \u001b[0;36mpandas._libs.index.IndexEngine.get_loc\u001b[1;34m()\u001b[0m\n",
      "\u001b[1;32mpandas\\_libs\\index.pyx\u001b[0m in \u001b[0;36mpandas._libs.index.IndexEngine.get_loc\u001b[1;34m()\u001b[0m\n",
      "\u001b[1;32mpandas\\_libs\\hashtable_class_helper.pxi\u001b[0m in \u001b[0;36mpandas._libs.hashtable.PyObjectHashTable.get_item\u001b[1;34m()\u001b[0m\n",
      "\u001b[1;32mpandas\\_libs\\hashtable_class_helper.pxi\u001b[0m in \u001b[0;36mpandas._libs.hashtable.PyObjectHashTable.get_item\u001b[1;34m()\u001b[0m\n",
      "\u001b[1;31mKeyError\u001b[0m: 'Users_Total_Purchase'"
     ]
    }
   ],
   "source": [
    "#col_ls = ['Users_Total_Purchase', 'Products_Total_Purchase', 'Users_Minimum_Purchase', 'Products_Minimum_Purchase', \n",
    "#         'Users_Maximum_Purchase', 'Products_Maximum_Purchase']\n",
    "#\n",
    "#features = helper(df, col_ls)\n",
    "#####"
   ]
  },
  {
   "cell_type": "code",
   "execution_count": 340,
   "metadata": {},
   "outputs": [
    {
     "name": "stdout",
     "output_type": "stream",
     "text": [
      "\n",
      "=========================Fold1============================\n",
      "\n",
      " RMSE score for Validation set is : 2426.7083845586367\n",
      "\n",
      "=========================Fold2============================\n",
      "\n",
      " RMSE score for Validation set is : 2429.2519740200482\n",
      "\n",
      "=========================Fold3============================\n",
      "\n",
      " RMSE score for Validation set is : 2432.988120566455\n",
      "\n",
      "=========================Fold4============================\n",
      "\n",
      " RMSE score for Validation set is : 2431.067071592002\n",
      "\n",
      "=========================Fold5============================\n",
      "\n",
      " RMSE score for Validation set is : 2443.1317868211086\n",
      "\n",
      "\n",
      "RMSE score for oofs is 2432.6360011449947\n"
     ]
    }
   ],
   "source": [
    "lgb_oofs, lgb_preds = boosting_cross_val(lgb, train_proc, test_proc, features, 'lgb')\n",
    "sample_sub['Purchase'] = fe_lgb_base_preds\n",
    "#sample_sub.to_csv(r\"D:\\Data Science\\Projects\\Analytics vidya\\Black Friday Sales Prediction\\Feature_Engineering.csv\", index = False)"
   ]
  },
  {
   "cell_type": "code",
   "execution_count": 264,
   "metadata": {
    "collapsed": true
   },
   "outputs": [
    {
     "name": "stdout",
     "output_type": "stream",
     "text": [
      "\n",
      "=========================Fold1============================\n",
      "\n",
      " RMSE score for Validation set is : 2470.334979348195\n",
      "\n",
      "=========================Fold2============================\n",
      "\n",
      " RMSE score for Validation set is : 2459.410596495955\n",
      "\n",
      "=========================Fold3============================\n",
      "\n",
      " RMSE score for Validation set is : 2456.27582758716\n",
      "\n",
      "=========================Fold4============================\n",
      "\n",
      " RMSE score for Validation set is : 2460.995800306936\n",
      "\n",
      "=========================Fold5============================\n",
      "\n",
      " RMSE score for Validation set is : 2469.747297289554\n",
      "\n",
      "\n",
      "RMSE score for oofs is 2463.3594213795013\n"
     ]
    }
   ],
   "source": [
    "xgb_oofs, xgb_preds = boosting_cross_val(xgb, train_proc, test_proc, features, 'xgb')\n",
    "sample_sub['Purchase'] = fe_lgb_base_preds\n",
    "#sample_sub.to_csv(r\"D:\\Data Science\\Projects\\Analytics vidya\\Black Friday Sales Prediction\\Feature_Engineering.csv\", index = False)"
   ]
  },
  {
   "cell_type": "code",
   "execution_count": 265,
   "metadata": {
    "collapsed": true
   },
   "outputs": [
    {
     "name": "stdout",
     "output_type": "stream",
     "text": [
      "\n",
      "=========================Fold1============================\n",
      "\n",
      " RMSE score for Validation set is : 2418.4192981031592\n",
      "\n",
      "=========================Fold2============================\n",
      "\n",
      " RMSE score for Validation set is : 2427.892093068631\n",
      "\n",
      "=========================Fold3============================\n",
      "\n",
      " RMSE score for Validation set is : 2422.385836851996\n",
      "\n",
      "=========================Fold4============================\n",
      "\n",
      " RMSE score for Validation set is : 2421.94402800197\n",
      "\n",
      "=========================Fold5============================\n",
      "\n",
      " RMSE score for Validation set is : 2430.1332491118806\n",
      "\n",
      "\n",
      "RMSE score for oofs is 2424.15863246384\n"
     ]
    }
   ],
   "source": [
    "cat_oofs, cat_preds = boosting_cross_val(cat, train_proc, test_proc, features, 'cat')\n",
    "sample_sub['Purchase'] = fe_lgb_base_preds\n",
    "sample_sub.to_csv(r\"D:\\Data Science\\Projects\\Analytics vidya\\Black Friday Sales Prediction\\Feature_Engineering.csv\", index = False)"
   ]
  },
  {
   "cell_type": "markdown",
   "metadata": {},
   "source": [
    "---\n",
    "# Ensembling"
   ]
  },
  {
   "cell_type": "code",
   "execution_count": 266,
   "metadata": {},
   "outputs": [],
   "source": [
    "train_new = train_proc[[target, 'User_ID']].copy()\n",
    "test_new = test_proc[[target, 'User_ID']].copy()\n",
    "\n",
    "train_new['lgb'] = lgb_oofs\n",
    "test_new['lgb'] = lgb_preds\n",
    "\n",
    "train_new['cb'] = cat_oofs\n",
    "test_new['cb'] = cat_preds\n",
    "\n",
    "train_new['xgb'] = xgb_oofs\n",
    "test_new['xgb'] = xgb_preds\n",
    "\n",
    "ens_features = [c for c in train_new.columns if c not in [target, 'User_ID']]"
   ]
  },
  {
   "cell_type": "code",
   "execution_count": 281,
   "metadata": {
    "collapsed": true
   },
   "outputs": [
    {
     "name": "stdout",
     "output_type": "stream",
     "text": [
      "\n",
      "=========================Fold1============================\n",
      "\n",
      " RMSE score for Validation set is : 2400.316089930955\n",
      "\n",
      "=========================Fold2============================\n",
      "\n",
      " RMSE score for Validation set is : 2411.0734870531796\n",
      "\n",
      "=========================Fold3============================\n",
      "\n",
      " RMSE score for Validation set is : 2414.8017669750066\n",
      "\n",
      "=========================Fold4============================\n",
      "\n",
      " RMSE score for Validation set is : 2412.3873639468816\n",
      "\n",
      "=========================Fold5============================\n",
      "\n",
      " RMSE score for Validation set is : 2409.544369705774\n",
      "\n",
      "\n",
      "RMSE score for oofs is 2409.629723070253\n"
     ]
    }
   ],
   "source": [
    "from sklearn.linear_model import Lasso\n",
    "clf = Lasso()\n",
    "\n",
    "ens_oofs, ens_preds = cross_val(clf, train_new, test_new, ens_features)"
   ]
  },
  {
   "cell_type": "code",
   "execution_count": 282,
   "metadata": {},
   "outputs": [],
   "source": [
    "sample_sub['Purchase'] = ens_preds\n",
    "sample_sub.to_csv(r\"D:\\Data Science\\Projects\\Analytics vidya\\Black Friday Sales Prediction\\Ensemble.csv\", index = False)"
   ]
  },
  {
   "cell_type": "markdown",
   "metadata": {},
   "source": [
    "### Got RMSE of 2439.73 on Leaderboard"
   ]
  },
  {
   "cell_type": "markdown",
   "metadata": {},
   "source": [
    "# Hyperparameter Tuning For Current Data (With Created Features)"
   ]
  },
  {
   "cell_type": "code",
   "execution_count": 348,
   "metadata": {},
   "outputs": [],
   "source": [
    "uint8_cols = ['is_working', 'is_popular', 'is_female_product', 'is_male_product']\n",
    "\n",
    "int16_cols = ['Users_unique_products', 'Products_unique_users', 'Citys_unique_products', 'Age_unique_products', 'Age_unique_users',\n",
    "             'Occupation_unique_products', 'Occupation_unique_users', 'Users_Mean_Purchase', 'Users_Median_Purchase', 'Products_Mean_Purchase',\n",
    "             'Products_Median_Purchase', 'Product_Category_1_Mean_Purchase', 'Product_Category_1_Median_Purchase']"
   ]
  },
  {
   "cell_type": "code",
   "execution_count": 432,
   "metadata": {
    "scrolled": true
   },
   "outputs": [
    {
     "name": "stdout",
     "output_type": "stream",
     "text": [
      "<class 'pandas.core.frame.DataFrame'>\n",
      "RangeIndex: 233599 entries, 0 to 233598\n",
      "Data columns (total 97 columns):\n",
      " #   Column                              Non-Null Count   Dtype\n",
      "---  ------                              --------------   -----\n",
      " 0   User_ID                             233599 non-null  int16\n",
      " 1   Product_ID                          233599 non-null  int16\n",
      " 2   Gender                              233599 non-null  uint8\n",
      " 3   Age                                 233599 non-null  uint8\n",
      " 4   Stay_In_Current_City_Years          233599 non-null  uint8\n",
      " 5   Marital_Status                      233599 non-null  uint8\n",
      " 6   Purchase                            233599 non-null  int32\n",
      " 7   Occupation_1                        233599 non-null  uint8\n",
      " 8   Occupation_2                        233599 non-null  uint8\n",
      " 9   Occupation_3                        233599 non-null  uint8\n",
      " 10  Occupation_4                        233599 non-null  uint8\n",
      " 11  Occupation_5                        233599 non-null  uint8\n",
      " 12  Occupation_6                        233599 non-null  uint8\n",
      " 13  Occupation_7                        233599 non-null  uint8\n",
      " 14  Occupation_8                        233599 non-null  uint8\n",
      " 15  Occupation_9                        233599 non-null  uint8\n",
      " 16  Occupation_10                       233599 non-null  uint8\n",
      " 17  Occupation_11                       233599 non-null  uint8\n",
      " 18  Occupation_12                       233599 non-null  uint8\n",
      " 19  Occupation_13                       233599 non-null  uint8\n",
      " 20  Occupation_14                       233599 non-null  uint8\n",
      " 21  Occupation_15                       233599 non-null  uint8\n",
      " 22  Occupation_16                       233599 non-null  uint8\n",
      " 23  Occupation_17                       233599 non-null  uint8\n",
      " 24  Occupation_18                       233599 non-null  uint8\n",
      " 25  Occupation_19                       233599 non-null  uint8\n",
      " 26  Occupation_20                       233599 non-null  uint8\n",
      " 27  City_Category_B                     233599 non-null  uint8\n",
      " 28  City_Category_C                     233599 non-null  uint8\n",
      " 29  Product_Category_1_2                233599 non-null  uint8\n",
      " 30  Product_Category_1_3                233599 non-null  uint8\n",
      " 31  Product_Category_1_4                233599 non-null  uint8\n",
      " 32  Product_Category_1_5                233599 non-null  uint8\n",
      " 33  Product_Category_1_6                233599 non-null  uint8\n",
      " 34  Product_Category_1_7                233599 non-null  uint8\n",
      " 35  Product_Category_1_8                233599 non-null  uint8\n",
      " 36  Product_Category_1_9                233599 non-null  uint8\n",
      " 37  Product_Category_1_10               233599 non-null  uint8\n",
      " 38  Product_Category_1_11               233599 non-null  uint8\n",
      " 39  Product_Category_1_12               233599 non-null  uint8\n",
      " 40  Product_Category_1_13               233599 non-null  uint8\n",
      " 41  Product_Category_1_14               233599 non-null  uint8\n",
      " 42  Product_Category_1_15               233599 non-null  uint8\n",
      " 43  Product_Category_1_16               233599 non-null  uint8\n",
      " 44  Product_Category_1_17               233599 non-null  uint8\n",
      " 45  Product_Category_1_18               233599 non-null  uint8\n",
      " 46  Product_Category_1_19               233599 non-null  uint8\n",
      " 47  Product_Category_1_20               233599 non-null  uint8\n",
      " 48  Product_Category_2_2.0              233599 non-null  uint8\n",
      " 49  Product_Category_2_3.0              233599 non-null  uint8\n",
      " 50  Product_Category_2_4.0              233599 non-null  uint8\n",
      " 51  Product_Category_2_5.0              233599 non-null  uint8\n",
      " 52  Product_Category_2_6.0              233599 non-null  uint8\n",
      " 53  Product_Category_2_7.0              233599 non-null  uint8\n",
      " 54  Product_Category_2_8.0              233599 non-null  uint8\n",
      " 55  Product_Category_2_9.0              233599 non-null  uint8\n",
      " 56  Product_Category_2_10.0             233599 non-null  uint8\n",
      " 57  Product_Category_2_11.0             233599 non-null  uint8\n",
      " 58  Product_Category_2_12.0             233599 non-null  uint8\n",
      " 59  Product_Category_2_13.0             233599 non-null  uint8\n",
      " 60  Product_Category_2_14.0             233599 non-null  uint8\n",
      " 61  Product_Category_2_15.0             233599 non-null  uint8\n",
      " 62  Product_Category_2_16.0             233599 non-null  uint8\n",
      " 63  Product_Category_2_17.0             233599 non-null  uint8\n",
      " 64  Product_Category_2_18.0             233599 non-null  uint8\n",
      " 65  Product_Category_3_3.0              233599 non-null  uint8\n",
      " 66  Product_Category_3_4.0              233599 non-null  uint8\n",
      " 67  Product_Category_3_5.0              233599 non-null  uint8\n",
      " 68  Product_Category_3_6.0              233599 non-null  uint8\n",
      " 69  Product_Category_3_8.0              233599 non-null  uint8\n",
      " 70  Product_Category_3_9.0              233599 non-null  uint8\n",
      " 71  Product_Category_3_10.0             233599 non-null  uint8\n",
      " 72  Product_Category_3_11.0             233599 non-null  uint8\n",
      " 73  Product_Category_3_12.0             233599 non-null  uint8\n",
      " 74  Product_Category_3_13.0             233599 non-null  uint8\n",
      " 75  Product_Category_3_14.0             233599 non-null  uint8\n",
      " 76  Product_Category_3_15.0             233599 non-null  uint8\n",
      " 77  Product_Category_3_16.0             233599 non-null  uint8\n",
      " 78  Product_Category_3_17.0             233599 non-null  uint8\n",
      " 79  Product_Category_3_18.0             233599 non-null  uint8\n",
      " 80  is_working                          233599 non-null  uint8\n",
      " 81  is_popular                          233599 non-null  uint8\n",
      " 82  is_female_product                   233599 non-null  uint8\n",
      " 83  is_male_product                     233599 non-null  uint8\n",
      " 84  Users_unique_products               233599 non-null  int16\n",
      " 85  Products_unique_users               233599 non-null  int16\n",
      " 86  Citys_unique_products               233599 non-null  int16\n",
      " 87  Age_unique_products                 233599 non-null  int16\n",
      " 88  Age_unique_users                    233599 non-null  int16\n",
      " 89  Occupation_unique_products          233599 non-null  int16\n",
      " 90  Occupation_unique_users             233599 non-null  int16\n",
      " 91  Users_Mean_Purchase                 233599 non-null  int16\n",
      " 92  Users_Median_Purchase               233599 non-null  int16\n",
      " 93  Products_Mean_Purchase              233599 non-null  int16\n",
      " 94  Products_Median_Purchase            233599 non-null  int16\n",
      " 95  Product_Category_1_Mean_Purchase    233599 non-null  int16\n",
      " 96  Product_Category_1_Median_Purchase  233599 non-null  int16\n",
      "dtypes: int16(15), int32(1), uint8(81)\n",
      "memory usage: 25.6 MB\n"
     ]
    }
   ],
   "source": [
    "test_proc.info()"
   ]
  },
  {
   "cell_type": "markdown",
   "metadata": {},
   "source": [
    "##### Imputing Products_Mean_Purchase and Products_Median_Purchase by Product_Category_1_Mean_Purchase and Product_Category_1_Median_Purchase respectively"
   ]
  },
  {
   "cell_type": "code",
   "execution_count": 373,
   "metadata": {},
   "outputs": [],
   "source": [
    "test_proc.loc[ test_proc['Products_Mean_Purchase'].isna(), 'Products_Mean_Purchase'] = test_proc[ test_proc['Products_Mean_Purchase'].isna()]['Product_Category_1_Mean_Purchase'].apply(lambda x: x)"
   ]
  },
  {
   "cell_type": "code",
   "execution_count": 376,
   "metadata": {},
   "outputs": [],
   "source": [
    "test_proc.loc[ test_proc['Products_Median_Purchase'].isna(), 'Products_Median_Purchase'] = test_proc[ test_proc['Products_Median_Purchase'].isna()]['Product_Category_1_Median_Purchase'].apply(lambda x: x)"
   ]
  },
  {
   "cell_type": "code",
   "execution_count": 349,
   "metadata": {},
   "outputs": [],
   "source": [
    "train_proc[uint8_cols] = train_proc[uint8_cols].astype('uint8')\n",
    "test_proc[uint8_cols] = test_proc[uint8_cols].astype('uint8')"
   ]
  },
  {
   "cell_type": "code",
   "execution_count": 431,
   "metadata": {},
   "outputs": [],
   "source": [
    "train_proc[int16_cols] = train_proc[int16_cols].astype('int16')\n",
    "test_proc[int16_cols] = test_proc[int16_cols].astype('int16')"
   ]
  },
  {
   "cell_type": "markdown",
   "metadata": {},
   "source": [
    "---\n",
    "# Spliting into train, val and test"
   ]
  },
  {
   "cell_type": "code",
   "execution_count": 387,
   "metadata": {},
   "outputs": [],
   "source": [
    "traget = 'Purchase'\n",
    "\n",
    "features = [col for col in train_proc.columns if col not in [target]]"
   ]
  },
  {
   "cell_type": "code",
   "execution_count": 389,
   "metadata": {},
   "outputs": [],
   "source": [
    "trn, val = train_test_split(train_proc, test_size = 0.2, random_state = 1999)\n",
    "\n",
    "##### Input for model\n",
    "X_trn, X_val = trn[features], val[features]\n",
    "\n",
    "##### Target column\n",
    "y_trn, y_val = trn[target], val[target]\n",
    "\n",
    "##### Features for test data that we will be predicting\n",
    "X_test = test_proc[features]"
   ]
  },
  {
   "cell_type": "markdown",
   "metadata": {},
   "source": [
    "### 1. LGBM "
   ]
  },
  {
   "cell_type": "code",
   "execution_count": 398,
   "metadata": {},
   "outputs": [
    {
     "name": "stdout",
     "output_type": "stream",
     "text": [
      "RMSE score is: 2473.1571412379185\n",
      "Wall time: 3.13 s\n"
     ]
    }
   ],
   "source": [
    "%%time\n",
    "lgb = LGBMRegressor(random_state=1999)\n",
    "lgb.fit(X_trn, y_trn)\n",
    "preds = lgb.predict(X_val)\n",
    "rmse = np.sqrt(mean_squared_error(y_val, preds))\n",
    "print(f'RMSE score is: {rmse}')\n"
   ]
  },
  {
   "cell_type": "code",
   "execution_count": 399,
   "metadata": {},
   "outputs": [],
   "source": [
    "test_preds = lgb.predict(X_test)\n",
    "\n",
    "sample_sub['Purchase'] = test_preds\n",
    "sample_sub.to_csv(r\"D:\\Data Science\\Projects\\Analytics vidya\\Black Friday Sales Prediction\\FE_Boosting.csv\", index = False)"
   ]
  },
  {
   "cell_type": "code",
   "execution_count": 405,
   "metadata": {},
   "outputs": [
    {
     "name": "stdout",
     "output_type": "stream",
     "text": [
      "\n",
      "=========================Fold1============================\n",
      "\n",
      " RMSE score for Validation set is : 2430.4426892934575\n",
      "\n",
      "=========================Fold2============================\n",
      "\n",
      " RMSE score for Validation set is : 2434.567303379707\n",
      "\n",
      "=========================Fold3============================\n",
      "\n",
      " RMSE score for Validation set is : 2432.1161836446245\n",
      "\n",
      "=========================Fold4============================\n",
      "\n",
      " RMSE score for Validation set is : 2431.923027071152\n",
      "\n",
      "=========================Fold5============================\n",
      "\n",
      " RMSE score for Validation set is : 2435.5846905381436\n",
      "\n",
      "\n",
      "RMSE score for oofs is 2432.927498820389\n"
     ]
    }
   ],
   "source": [
    "lgb_fe_oofs, lgb_fe_preds = boosting_cross_val(lgb, train_proc, test_proc, features)\n",
    "sample_sub['Purchase'] = lgb_fe_preds\n",
    "sample_sub.to_csv(r\"D:\\Data Science\\Projects\\Analytics vidya\\Black Friday Sales Prediction\\FE_Boosting.csv\", index = False)"
   ]
  },
  {
   "cell_type": "markdown",
   "metadata": {},
   "source": [
    "## Hyperparameter Tuning"
   ]
  },
  {
   "cell_type": "code",
   "execution_count": 404,
   "metadata": {
    "collapsed": true
   },
   "outputs": [
    {
     "name": "stderr",
     "output_type": "stream",
     "text": [
      "[I 2020-10-05 21:38:24,156] A new study created in memory with name: no-name-7bf9dc2f-9775-43ba-a26c-c360495eaf70\n",
      "[I 2020-10-05 21:38:29,043] Trial 0 finished with value: 2546.356198744948 and parameters: {'max_depth': 14, 'n_estimators': 48, 'learning_rate': 0.7436704297351775, 'num_leaves': 4933, 'colsample_bytree': 0.7863564940982054, 'min_child_samples': 106, 'reg_alpha': 10, 'reg_lambda': 4}. Best is trial 0 with value: 2546.356198744948.\n",
      "[I 2020-10-05 21:39:12,863] Trial 1 finished with value: 2766.5291887612984 and parameters: {'max_depth': 23, 'n_estimators': 243, 'learning_rate': 0.49382849013642327, 'num_leaves': 3470, 'colsample_bytree': 0.40675321506062223, 'min_child_samples': 42, 'reg_alpha': 8, 'reg_lambda': 9}. Best is trial 0 with value: 2546.356198744948.\n",
      "[I 2020-10-05 21:39:29,198] Trial 2 finished with value: 2709.01165195194 and parameters: {'max_depth': 19, 'n_estimators': 166, 'learning_rate': 0.8524708871836397, 'num_leaves': 2165, 'colsample_bytree': 0.39459323187243844, 'min_child_samples': 200, 'reg_alpha': 1, 'reg_lambda': 3}. Best is trial 0 with value: 2546.356198744948.\n",
      "[I 2020-10-05 21:39:36,365] Trial 3 finished with value: 2474.7075237239724 and parameters: {'max_depth': 5, 'n_estimators': 473, 'learning_rate': 0.8208196767816798, 'num_leaves': 799, 'colsample_bytree': 0.7244233410291644, 'min_child_samples': 145, 'reg_alpha': 8, 'reg_lambda': 1}. Best is trial 3 with value: 2474.7075237239724.\n",
      "[I 2020-10-05 21:39:40,964] Trial 4 finished with value: 2473.843892998326 and parameters: {'max_depth': 3, 'n_estimators': 266, 'learning_rate': 0.5836359065041096, 'num_leaves': 546, 'colsample_bytree': 0.5174786574000574, 'min_child_samples': 154, 'reg_alpha': 4, 'reg_lambda': 3}. Best is trial 4 with value: 2473.843892998326.\n",
      "[I 2020-10-05 21:39:46,438] Trial 5 finished with value: 2518.0660369354505 and parameters: {'max_depth': 25, 'n_estimators': 29, 'learning_rate': 0.6115905539817836, 'num_leaves': 2178, 'colsample_bytree': 0.3593128062345713, 'min_child_samples': 136, 'reg_alpha': 7, 'reg_lambda': 9}. Best is trial 4 with value: 2473.843892998326.\n",
      "[I 2020-10-05 21:40:19,458] Trial 6 finished with value: 3157.853244848322 and parameters: {'max_depth': 22, 'n_estimators': 274, 'learning_rate': 0.9493732706631618, 'num_leaves': 1643, 'colsample_bytree': 0.45995999192898207, 'min_child_samples': 34, 'reg_alpha': 9, 'reg_lambda': 2}. Best is trial 4 with value: 2473.843892998326.\n",
      "[I 2020-10-05 21:40:25,364] Trial 7 finished with value: 2475.7943629109163 and parameters: {'max_depth': 3, 'n_estimators': 488, 'learning_rate': 0.15420292446634287, 'num_leaves': 3944, 'colsample_bytree': 0.6365102956945276, 'min_child_samples': 177, 'reg_alpha': 3, 'reg_lambda': 1}. Best is trial 4 with value: 2473.843892998326.\n",
      "[I 2020-10-05 21:40:35,252] Trial 8 finished with value: 2467.7415094681182 and parameters: {'max_depth': 16, 'n_estimators': 100, 'learning_rate': 0.42733969384836035, 'num_leaves': 2683, 'colsample_bytree': 0.13074034117818778, 'min_child_samples': 71, 'reg_alpha': 7, 'reg_lambda': 5}. Best is trial 8 with value: 2467.7415094681182.\n",
      "[I 2020-10-05 21:40:46,772] Trial 9 finished with value: 2588.281929622839 and parameters: {'max_depth': 17, 'n_estimators': 128, 'learning_rate': 0.6715529862432075, 'num_leaves': 1206, 'colsample_bytree': 0.3026332820318257, 'min_child_samples': 146, 'reg_alpha': 5, 'reg_lambda': 4}. Best is trial 8 with value: 2467.7415094681182.\n",
      "[I 2020-10-05 21:41:02,068] Trial 10 finished with value: 2451.3784285112183 and parameters: {'max_depth': 11, 'n_estimators': 355, 'learning_rate': 0.33538455676177475, 'num_leaves': 3381, 'colsample_bytree': 0.11225022874406972, 'min_child_samples': 71, 'reg_alpha': 6, 'reg_lambda': 7}. Best is trial 10 with value: 2451.3784285112183.\n",
      "[I 2020-10-05 21:41:15,878] Trial 11 finished with value: 2454.692375911473 and parameters: {'max_depth': 11, 'n_estimators': 350, 'learning_rate': 0.3488033620574727, 'num_leaves': 3143, 'colsample_bytree': 0.10503321001149495, 'min_child_samples': 78, 'reg_alpha': 6, 'reg_lambda': 7}. Best is trial 10 with value: 2451.3784285112183.\n",
      "[I 2020-10-05 21:41:27,775] Trial 12 finished with value: 2438.4534155206557 and parameters: {'max_depth': 9, 'n_estimators': 394, 'learning_rate': 0.2744109631429362, 'num_leaves': 3498, 'colsample_bytree': 0.11304411196300122, 'min_child_samples': 81, 'reg_alpha': 6, 'reg_lambda': 7}. Best is trial 12 with value: 2438.4534155206557.\n",
      "[I 2020-10-05 21:41:40,143] Trial 13 finished with value: 2433.1365199676006 and parameters: {'max_depth': 10, 'n_estimators': 396, 'learning_rate': 0.21608317753314812, 'num_leaves': 4499, 'colsample_bytree': 0.21352162655893747, 'min_child_samples': 99, 'reg_alpha': 3, 'reg_lambda': 7}. Best is trial 13 with value: 2433.1365199676006.\n",
      "[I 2020-10-05 21:41:51,960] Trial 14 finished with value: 2429.8644060511283 and parameters: {'max_depth': 8, 'n_estimators': 416, 'learning_rate': 0.1955432228396029, 'num_leaves': 4902, 'colsample_bytree': 0.24904471684290957, 'min_child_samples': 107, 'reg_alpha': 2, 'reg_lambda': 7}. Best is trial 14 with value: 2429.8644060511283.\n",
      "[I 2020-10-05 21:42:04,370] Trial 15 finished with value: 2428.7983335101358 and parameters: {'max_depth': 8, 'n_estimators': 427, 'learning_rate': 0.11399224633135674, 'num_leaves': 4944, 'colsample_bytree': 0.2481550490857895, 'min_child_samples': 105, 'reg_alpha': 1, 'reg_lambda': 10}. Best is trial 15 with value: 2428.7983335101358.\n",
      "[I 2020-10-05 21:42:16,525] Trial 16 finished with value: 2434.6522994823663 and parameters: {'max_depth': 7, 'n_estimators': 448, 'learning_rate': 0.11423792004234452, 'num_leaves': 4854, 'colsample_bytree': 0.2544676218218751, 'min_child_samples': 5, 'reg_alpha': 1, 'reg_lambda': 10}. Best is trial 15 with value: 2428.7983335101358.\n",
      "[I 2020-10-05 21:43:31,226] Trial 17 finished with value: 2470.159527197875 and parameters: {'max_depth': 30, 'n_estimators': 428, 'learning_rate': 0.10800830303923797, 'num_leaves': 4270, 'colsample_bytree': 0.5566196747170385, 'min_child_samples': 117, 'reg_alpha': 2, 'reg_lambda': 10}. Best is trial 15 with value: 2428.7983335101358.\n",
      "[I 2020-10-05 21:43:38,566] Trial 18 finished with value: 2450.453261919613 and parameters: {'max_depth': 6, 'n_estimators': 323, 'learning_rate': 0.2177281242988385, 'num_leaves': 4940, 'colsample_bytree': 0.1883739071389801, 'min_child_samples': 127, 'reg_alpha': 1, 'reg_lambda': 8}. Best is trial 15 with value: 2428.7983335101358.\n",
      "[I 2020-10-05 21:44:15,128] Trial 19 finished with value: 2620.018572839326 and parameters: {'max_depth': 13, 'n_estimators': 488, 'learning_rate': 0.43669132299402613, 'num_leaves': 4245, 'colsample_bytree': 0.30861540953869426, 'min_child_samples': 39, 'reg_alpha': 2, 'reg_lambda': 6}. Best is trial 15 with value: 2428.7983335101358.\n"
     ]
    },
    {
     "name": "stdout",
     "output_type": "stream",
     "text": [
      "Optimized LightGBM roc_auc_score 2428.5758667848954\n"
     ]
    }
   ],
   "source": [
    "import optuna\n",
    "from optuna.samplers import TPESampler\n",
    "\n",
    "def create_model(trial):\n",
    "    max_depth = trial.suggest_int(\"max_depth\", 2, 30)\n",
    "    n_estimators = trial.suggest_int(\"n_estimators\", 1, 500)\n",
    "    learning_rate = trial.suggest_uniform('learning_rate', 0.1, 1)\n",
    "    num_leaves = trial.suggest_int(\"num_leaves\", 2, 5000)\n",
    "    colsample_bytree = trial.suggest_uniform('colsample_bytree', 0.1, 0.9),\n",
    "    min_child_samples = trial.suggest_int('min_child_samples', 3, 200)\n",
    "    reg_alpha = trial.suggest_int(\"reg_alpha\", 1, 10)\n",
    "    reg_lambda = trial.suggest_int(\"reg_lambda\", 1, 10)\n",
    "    model = LGBMRegressor(\n",
    "        learning_rate=learning_rate, \n",
    "        n_estimators=n_estimators, \n",
    "        max_depth=max_depth,\n",
    "        num_leaves=num_leaves,\n",
    "        colsample_bytree = colsample_bytree,\n",
    "        min_child_samples=min_child_samples,\n",
    "        random_state=1999\n",
    "    )\n",
    "    return model\n",
    "\n",
    "sampler = TPESampler(seed=0)\n",
    "def objective(trial):\n",
    "    model = create_model(trial)\n",
    "    model.fit(X_trn, y_trn)\n",
    "    preds = model.predict(X_val)\n",
    "    score = np.sqrt(mean_squared_error(y_val,preds))\n",
    "    return score\n",
    "\n",
    "study = optuna.create_study(direction=\"minimize\", sampler=sampler)\n",
    "study.optimize(objective, n_trials=20)\n",
    "\n",
    "lgb_params = study.best_params\n",
    "lgb_params['random_state'] = 0\n",
    "lgb = LGBMRegressor(**lgb_params)\n",
    "lgb.fit(X_trn, y_trn)\n",
    "preds = lgb.predict(X_val)\n",
    "print('Optimized LightGBM roc_auc_score', np.sqrt(mean_squared_error(y_val, preds)))"
   ]
  },
  {
   "cell_type": "code",
   "execution_count": 406,
   "metadata": {},
   "outputs": [
    {
     "name": "stdout",
     "output_type": "stream",
     "text": [
      "RMSE score is: 2429.327526343336\n",
      "Wall time: 11.4 s\n"
     ]
    }
   ],
   "source": [
    "%%time\n",
    "params = {'max_depth': 8, 'n_estimators': 427, 'learning_rate': 0.11399224633135674,\n",
    " 'num_leaves': 4944, 'colsample_bytree': 0.2481550490857895,\n",
    "          'min_child_samples': 105, 'reg_alpha': 1, 'reg_lambda': 10}\n",
    "\n",
    "lgb = LGBMRegressor(random_state=1999,**params)\n",
    "lgb.fit(X_trn, y_trn)\n",
    "preds = lgb.predict(X_val)\n",
    "rmse = np.sqrt(mean_squared_error(y_val, preds))\n",
    "print(f'RMSE score is: {rmse}')"
   ]
  },
  {
   "cell_type": "code",
   "execution_count": 407,
   "metadata": {},
   "outputs": [],
   "source": [
    "test_preds = lgb.predict(X_test)\n",
    "\n",
    "sample_sub['Purchase'] = test_preds\n",
    "sample_sub.to_csv(r\"D:\\Data Science\\Projects\\Analytics vidya\\Black Friday Sales Prediction\\FE_Boosting.csv\", index = False)"
   ]
  },
  {
   "cell_type": "code",
   "execution_count": 437,
   "metadata": {},
   "outputs": [
    {
     "name": "stdout",
     "output_type": "stream",
     "text": [
      "\n",
      "=========================Fold1============================\n",
      "\n",
      " RMSE score for Validation set is : 2430.3029036885378\n",
      "\n",
      "=========================Fold2============================\n",
      "\n",
      " RMSE score for Validation set is : 2434.804446720686\n",
      "\n",
      "=========================Fold3============================\n",
      "\n",
      " RMSE score for Validation set is : 2433.127443834257\n",
      "\n",
      "=========================Fold4============================\n",
      "\n",
      " RMSE score for Validation set is : 2433.4409782724174\n",
      "\n",
      "=========================Fold5============================\n",
      "\n",
      " RMSE score for Validation set is : 2432.111369859339\n",
      "\n",
      "\n",
      "RMSE score for oofs is 2432.757890292266\n",
      "Wall time: 2min 7s\n"
     ]
    }
   ],
   "source": [
    "%%time\n",
    "lgb_fe_oofs, lgb_fe_preds = boosting_cross_val(lgb, train_proc, test_proc, features, 'lgb')\n",
    "sample_sub['Purchase'] = lgb_fe_preds\n",
    "#sample_sub.to_csv(r\"D:\\Data Science\\Projects\\Analytics vidya\\Black Friday Sales Prediction\\FE_Boosting.csv\", index = False)"
   ]
  },
  {
   "cell_type": "markdown",
   "metadata": {},
   "source": [
    "---\n",
    "### 2. XGBoost"
   ]
  },
  {
   "cell_type": "code",
   "execution_count": 412,
   "metadata": {},
   "outputs": [
    {
     "name": "stdout",
     "output_type": "stream",
     "text": [
      "RMSE score is: 2452.6074975634638\n",
      "Wall time: 46.3 s\n"
     ]
    }
   ],
   "source": [
    "%%time\n",
    "xgb = XGBRegressor(random_state=1999)\n",
    "xgb.fit(X_trn, y_trn)\n",
    "preds = xgb.predict(X_val)\n",
    "rmse = np.sqrt(mean_squared_error(y_val, preds))\n",
    "print(f'RMSE score is: {rmse}')\n"
   ]
  },
  {
   "cell_type": "code",
   "execution_count": 413,
   "metadata": {},
   "outputs": [],
   "source": [
    "test_preds = xgb.predict(X_test)\n",
    "\n",
    "sample_sub['Purchase'] = test_preds\n",
    "sample_sub.to_csv(r\"D:\\Data Science\\Projects\\Analytics vidya\\Black Friday Sales Prediction\\FE_Boosting.csv\", index = False)"
   ]
  },
  {
   "cell_type": "code",
   "execution_count": 416,
   "metadata": {},
   "outputs": [
    {
     "name": "stdout",
     "output_type": "stream",
     "text": [
      "\n",
      "=========================Fold1============================\n",
      "\n",
      " RMSE score for Validation set is : 2453.4985618703367\n",
      "\n",
      "=========================Fold2============================\n",
      "\n",
      " RMSE score for Validation set is : 2467.1161262392257\n",
      "\n",
      "=========================Fold3============================\n",
      "\n",
      " RMSE score for Validation set is : 2449.6082197808055\n",
      "\n",
      "=========================Fold4============================\n",
      "\n",
      " RMSE score for Validation set is : 2461.641050936145\n",
      "\n",
      "=========================Fold5============================\n",
      "\n",
      " RMSE score for Validation set is : 2453.6558123656096\n",
      "\n",
      "\n",
      "RMSE score for oofs is 2457.112169392068\n",
      "Wall time: 4min 38s\n"
     ]
    }
   ],
   "source": [
    "%%time\n",
    "xgb_fe_oofs, xgb_fe_preds = boosting_cross_val(xgb, train_proc, test_proc, features, 'lgb')\n",
    "sample_sub['Purchase'] = xgb_fe_preds\n",
    "sample_sub.to_csv(r\"D:\\Data Science\\Projects\\Analytics vidya\\Black Friday Sales Prediction\\FE_Boosting.csv\", index = False)"
   ]
  },
  {
   "cell_type": "code",
   "execution_count": 418,
   "metadata": {},
   "outputs": [
    {
     "name": "stdout",
     "output_type": "stream",
     "text": [
      "\n",
      "=========================Fold1============================\n",
      "\n",
      " RMSE score for Validation set is : 2455.6972880358285\n",
      "\n",
      "=========================Fold2============================\n",
      "\n",
      " RMSE score for Validation set is : 2449.610112441388\n",
      "\n",
      "=========================Fold3============================\n",
      "\n",
      " RMSE score for Validation set is : 2456.5976861840086\n",
      "\n",
      "=========================Fold4============================\n",
      "\n",
      " RMSE score for Validation set is : 2454.0954959498913\n",
      "\n",
      "=========================Fold5============================\n",
      "\n",
      " RMSE score for Validation set is : 2461.373804582692\n",
      "\n",
      "\n",
      "RMSE score for oofs is 2455.4778179618393\n",
      "Wall time: 4min 20s\n"
     ]
    }
   ],
   "source": [
    "%%time\n",
    "xgb_fe_oofs, xgb_fe_preds = cross_val(xgb, train_proc, test_proc, features,)\n",
    "sample_sub['Purchase'] = xgb_fe_preds\n",
    "sample_sub.to_csv(r\"D:\\Data Science\\Projects\\Analytics vidya\\Black Friday Sales Prediction\\FE_Boosting.csv\", index = False)"
   ]
  },
  {
   "cell_type": "markdown",
   "metadata": {},
   "source": [
    "#### Hyperparameter Tuning"
   ]
  },
  {
   "cell_type": "code",
   "execution_count": 439,
   "metadata": {},
   "outputs": [
    {
     "name": "stderr",
     "output_type": "stream",
     "text": [
      "[I 2020-10-05 23:21:25,384] A new study created in memory with name: no-name-109af6e5-4a61-4b2c-8653-ce3e274810f3\n",
      "[W 2020-10-05 23:21:45,018] Trial 0 failed because of the following error: MemoryError((440054, 96), dtype('float64'))\n",
      "Traceback (most recent call last):\n",
      "  File \"C:\\Users\\sunil\\anaconda3\\lib\\site-packages\\optuna\\study.py\", line 778, in _run_trial\n",
      "    result = func(trial)\n",
      "  File \"<ipython-input-439-f6438b1b572a>\", line 28, in objective\n",
      "    model.fit(X_trn, y_trn)\n",
      "  File \"C:\\Users\\sunil\\anaconda3\\lib\\site-packages\\xgboost\\sklearn.py\", line 504, in fit\n",
      "    nthread=self.n_jobs)\n",
      "  File \"C:\\Users\\sunil\\anaconda3\\lib\\site-packages\\xgboost\\core.py\", line 520, in __init__\n",
      "    data, feature_names, feature_types\n",
      "  File \"C:\\Users\\sunil\\anaconda3\\lib\\site-packages\\xgboost\\core.py\", line 420, in _convert_dataframes\n",
      "    meta_type)\n",
      "  File \"C:\\Users\\sunil\\anaconda3\\lib\\site-packages\\xgboost\\core.py\", line 320, in _maybe_pandas_data\n",
      "    data = data.values.astype(dtype)\n",
      "MemoryError: Unable to allocate 322. MiB for an array with shape (440054, 96) and data type float64\n"
     ]
    },
    {
     "ename": "MemoryError",
     "evalue": "Unable to allocate 322. MiB for an array with shape (440054, 96) and data type float64",
     "output_type": "error",
     "traceback": [
      "\u001b[1;31m---------------------------------------------------------------------------\u001b[0m",
      "\u001b[1;31mMemoryError\u001b[0m                               Traceback (most recent call last)",
      "\u001b[1;32m<ipython-input-439-f6438b1b572a>\u001b[0m in \u001b[0;36m<module>\u001b[1;34m\u001b[0m\n\u001b[0;32m     32\u001b[0m \u001b[1;33m\u001b[0m\u001b[0m\n\u001b[0;32m     33\u001b[0m \u001b[0mstudy\u001b[0m \u001b[1;33m=\u001b[0m \u001b[0moptuna\u001b[0m\u001b[1;33m.\u001b[0m\u001b[0mcreate_study\u001b[0m\u001b[1;33m(\u001b[0m\u001b[0mdirection\u001b[0m\u001b[1;33m=\u001b[0m\u001b[1;34m\"minimize\"\u001b[0m\u001b[1;33m,\u001b[0m \u001b[0msampler\u001b[0m\u001b[1;33m=\u001b[0m\u001b[0msampler\u001b[0m\u001b[1;33m)\u001b[0m\u001b[1;33m\u001b[0m\u001b[1;33m\u001b[0m\u001b[0m\n\u001b[1;32m---> 34\u001b[1;33m \u001b[0mstudy\u001b[0m\u001b[1;33m.\u001b[0m\u001b[0moptimize\u001b[0m\u001b[1;33m(\u001b[0m\u001b[0mobjective\u001b[0m\u001b[1;33m,\u001b[0m \u001b[0mn_trials\u001b[0m\u001b[1;33m=\u001b[0m\u001b[1;36m20\u001b[0m\u001b[1;33m)\u001b[0m\u001b[1;33m\u001b[0m\u001b[1;33m\u001b[0m\u001b[0m\n\u001b[0m\u001b[0;32m     35\u001b[0m \u001b[1;33m\u001b[0m\u001b[0m\n\u001b[0;32m     36\u001b[0m \u001b[0mxgb_params\u001b[0m \u001b[1;33m=\u001b[0m \u001b[0mstudy\u001b[0m\u001b[1;33m.\u001b[0m\u001b[0mbest_params\u001b[0m\u001b[1;33m\u001b[0m\u001b[1;33m\u001b[0m\u001b[0m\n",
      "\u001b[1;32m~\\anaconda3\\lib\\site-packages\\optuna\\study.py\u001b[0m in \u001b[0;36moptimize\u001b[1;34m(self, func, n_trials, timeout, n_jobs, catch, callbacks, gc_after_trial, show_progress_bar)\u001b[0m\n\u001b[0;32m    326\u001b[0m             \u001b[1;32mif\u001b[0m \u001b[0mn_jobs\u001b[0m \u001b[1;33m==\u001b[0m \u001b[1;36m1\u001b[0m\u001b[1;33m:\u001b[0m\u001b[1;33m\u001b[0m\u001b[1;33m\u001b[0m\u001b[0m\n\u001b[0;32m    327\u001b[0m                 self._optimize_sequential(\n\u001b[1;32m--> 328\u001b[1;33m                     \u001b[0mfunc\u001b[0m\u001b[1;33m,\u001b[0m \u001b[0mn_trials\u001b[0m\u001b[1;33m,\u001b[0m \u001b[0mtimeout\u001b[0m\u001b[1;33m,\u001b[0m \u001b[0mcatch\u001b[0m\u001b[1;33m,\u001b[0m \u001b[0mcallbacks\u001b[0m\u001b[1;33m,\u001b[0m \u001b[0mgc_after_trial\u001b[0m\u001b[1;33m,\u001b[0m \u001b[1;32mNone\u001b[0m\u001b[1;33m\u001b[0m\u001b[1;33m\u001b[0m\u001b[0m\n\u001b[0m\u001b[0;32m    329\u001b[0m                 )\n\u001b[0;32m    330\u001b[0m             \u001b[1;32melse\u001b[0m\u001b[1;33m:\u001b[0m\u001b[1;33m\u001b[0m\u001b[1;33m\u001b[0m\u001b[0m\n",
      "\u001b[1;32m~\\anaconda3\\lib\\site-packages\\optuna\\study.py\u001b[0m in \u001b[0;36m_optimize_sequential\u001b[1;34m(self, func, n_trials, timeout, catch, callbacks, gc_after_trial, time_start)\u001b[0m\n\u001b[0;32m    724\u001b[0m                     \u001b[1;32mbreak\u001b[0m\u001b[1;33m\u001b[0m\u001b[1;33m\u001b[0m\u001b[0m\n\u001b[0;32m    725\u001b[0m \u001b[1;33m\u001b[0m\u001b[0m\n\u001b[1;32m--> 726\u001b[1;33m             \u001b[0mself\u001b[0m\u001b[1;33m.\u001b[0m\u001b[0m_run_trial_and_callbacks\u001b[0m\u001b[1;33m(\u001b[0m\u001b[0mfunc\u001b[0m\u001b[1;33m,\u001b[0m \u001b[0mcatch\u001b[0m\u001b[1;33m,\u001b[0m \u001b[0mcallbacks\u001b[0m\u001b[1;33m,\u001b[0m \u001b[0mgc_after_trial\u001b[0m\u001b[1;33m)\u001b[0m\u001b[1;33m\u001b[0m\u001b[1;33m\u001b[0m\u001b[0m\n\u001b[0m\u001b[0;32m    727\u001b[0m \u001b[1;33m\u001b[0m\u001b[0m\n\u001b[0;32m    728\u001b[0m             \u001b[0mself\u001b[0m\u001b[1;33m.\u001b[0m\u001b[0m_progress_bar\u001b[0m\u001b[1;33m.\u001b[0m\u001b[0mupdate\u001b[0m\u001b[1;33m(\u001b[0m\u001b[1;33m(\u001b[0m\u001b[0mdatetime\u001b[0m\u001b[1;33m.\u001b[0m\u001b[0mdatetime\u001b[0m\u001b[1;33m.\u001b[0m\u001b[0mnow\u001b[0m\u001b[1;33m(\u001b[0m\u001b[1;33m)\u001b[0m \u001b[1;33m-\u001b[0m \u001b[0mtime_start\u001b[0m\u001b[1;33m)\u001b[0m\u001b[1;33m.\u001b[0m\u001b[0mtotal_seconds\u001b[0m\u001b[1;33m(\u001b[0m\u001b[1;33m)\u001b[0m\u001b[1;33m)\u001b[0m\u001b[1;33m\u001b[0m\u001b[1;33m\u001b[0m\u001b[0m\n",
      "\u001b[1;32m~\\anaconda3\\lib\\site-packages\\optuna\\study.py\u001b[0m in \u001b[0;36m_run_trial_and_callbacks\u001b[1;34m(self, func, catch, callbacks, gc_after_trial)\u001b[0m\n\u001b[0;32m    753\u001b[0m     ) -> None:\n\u001b[0;32m    754\u001b[0m \u001b[1;33m\u001b[0m\u001b[0m\n\u001b[1;32m--> 755\u001b[1;33m         \u001b[0mtrial\u001b[0m \u001b[1;33m=\u001b[0m \u001b[0mself\u001b[0m\u001b[1;33m.\u001b[0m\u001b[0m_run_trial\u001b[0m\u001b[1;33m(\u001b[0m\u001b[0mfunc\u001b[0m\u001b[1;33m,\u001b[0m \u001b[0mcatch\u001b[0m\u001b[1;33m,\u001b[0m \u001b[0mgc_after_trial\u001b[0m\u001b[1;33m)\u001b[0m\u001b[1;33m\u001b[0m\u001b[1;33m\u001b[0m\u001b[0m\n\u001b[0m\u001b[0;32m    756\u001b[0m         \u001b[1;32mif\u001b[0m \u001b[0mcallbacks\u001b[0m \u001b[1;32mis\u001b[0m \u001b[1;32mnot\u001b[0m \u001b[1;32mNone\u001b[0m\u001b[1;33m:\u001b[0m\u001b[1;33m\u001b[0m\u001b[1;33m\u001b[0m\u001b[0m\n\u001b[0;32m    757\u001b[0m             \u001b[0mfrozen_trial\u001b[0m \u001b[1;33m=\u001b[0m \u001b[0mcopy\u001b[0m\u001b[1;33m.\u001b[0m\u001b[0mdeepcopy\u001b[0m\u001b[1;33m(\u001b[0m\u001b[0mself\u001b[0m\u001b[1;33m.\u001b[0m\u001b[0m_storage\u001b[0m\u001b[1;33m.\u001b[0m\u001b[0mget_trial\u001b[0m\u001b[1;33m(\u001b[0m\u001b[0mtrial\u001b[0m\u001b[1;33m.\u001b[0m\u001b[0m_trial_id\u001b[0m\u001b[1;33m)\u001b[0m\u001b[1;33m)\u001b[0m\u001b[1;33m\u001b[0m\u001b[1;33m\u001b[0m\u001b[0m\n",
      "\u001b[1;32m~\\anaconda3\\lib\\site-packages\\optuna\\study.py\u001b[0m in \u001b[0;36m_run_trial\u001b[1;34m(self, func, catch, gc_after_trial)\u001b[0m\n\u001b[0;32m    776\u001b[0m \u001b[1;33m\u001b[0m\u001b[0m\n\u001b[0;32m    777\u001b[0m         \u001b[1;32mtry\u001b[0m\u001b[1;33m:\u001b[0m\u001b[1;33m\u001b[0m\u001b[1;33m\u001b[0m\u001b[0m\n\u001b[1;32m--> 778\u001b[1;33m             \u001b[0mresult\u001b[0m \u001b[1;33m=\u001b[0m \u001b[0mfunc\u001b[0m\u001b[1;33m(\u001b[0m\u001b[0mtrial\u001b[0m\u001b[1;33m)\u001b[0m\u001b[1;33m\u001b[0m\u001b[1;33m\u001b[0m\u001b[0m\n\u001b[0m\u001b[0;32m    779\u001b[0m         \u001b[1;32mexcept\u001b[0m \u001b[0mexceptions\u001b[0m\u001b[1;33m.\u001b[0m\u001b[0mTrialPruned\u001b[0m \u001b[1;32mas\u001b[0m \u001b[0me\u001b[0m\u001b[1;33m:\u001b[0m\u001b[1;33m\u001b[0m\u001b[1;33m\u001b[0m\u001b[0m\n\u001b[0;32m    780\u001b[0m             \u001b[0mmessage\u001b[0m \u001b[1;33m=\u001b[0m \u001b[1;34m\"Trial {} pruned. {}\"\u001b[0m\u001b[1;33m.\u001b[0m\u001b[0mformat\u001b[0m\u001b[1;33m(\u001b[0m\u001b[0mtrial_number\u001b[0m\u001b[1;33m,\u001b[0m \u001b[0mstr\u001b[0m\u001b[1;33m(\u001b[0m\u001b[0me\u001b[0m\u001b[1;33m)\u001b[0m\u001b[1;33m)\u001b[0m\u001b[1;33m\u001b[0m\u001b[1;33m\u001b[0m\u001b[0m\n",
      "\u001b[1;32m<ipython-input-439-f6438b1b572a>\u001b[0m in \u001b[0;36mobjective\u001b[1;34m(trial)\u001b[0m\n\u001b[0;32m     26\u001b[0m \u001b[1;32mdef\u001b[0m \u001b[0mobjective\u001b[0m\u001b[1;33m(\u001b[0m\u001b[0mtrial\u001b[0m\u001b[1;33m)\u001b[0m\u001b[1;33m:\u001b[0m\u001b[1;33m\u001b[0m\u001b[1;33m\u001b[0m\u001b[0m\n\u001b[0;32m     27\u001b[0m     \u001b[0mmodel\u001b[0m \u001b[1;33m=\u001b[0m \u001b[0mcreate_model\u001b[0m\u001b[1;33m(\u001b[0m\u001b[0mtrial\u001b[0m\u001b[1;33m)\u001b[0m\u001b[1;33m\u001b[0m\u001b[1;33m\u001b[0m\u001b[0m\n\u001b[1;32m---> 28\u001b[1;33m     \u001b[0mmodel\u001b[0m\u001b[1;33m.\u001b[0m\u001b[0mfit\u001b[0m\u001b[1;33m(\u001b[0m\u001b[0mX_trn\u001b[0m\u001b[1;33m,\u001b[0m \u001b[0my_trn\u001b[0m\u001b[1;33m)\u001b[0m\u001b[1;33m\u001b[0m\u001b[1;33m\u001b[0m\u001b[0m\n\u001b[0m\u001b[0;32m     29\u001b[0m     \u001b[0mpreds\u001b[0m \u001b[1;33m=\u001b[0m \u001b[0mmodel\u001b[0m\u001b[1;33m.\u001b[0m\u001b[0mpredict\u001b[0m\u001b[1;33m(\u001b[0m\u001b[0mX_val\u001b[0m\u001b[1;33m)\u001b[0m\u001b[1;33m\u001b[0m\u001b[1;33m\u001b[0m\u001b[0m\n\u001b[0;32m     30\u001b[0m     \u001b[0mscore\u001b[0m \u001b[1;33m=\u001b[0m \u001b[0mnp\u001b[0m\u001b[1;33m.\u001b[0m\u001b[0msqrt\u001b[0m\u001b[1;33m(\u001b[0m\u001b[0mmean_squared_error\u001b[0m\u001b[1;33m(\u001b[0m\u001b[0my_val\u001b[0m\u001b[1;33m,\u001b[0m\u001b[0mpreds\u001b[0m\u001b[1;33m)\u001b[0m\u001b[1;33m)\u001b[0m\u001b[1;33m\u001b[0m\u001b[1;33m\u001b[0m\u001b[0m\n",
      "\u001b[1;32m~\\anaconda3\\lib\\site-packages\\xgboost\\sklearn.py\u001b[0m in \u001b[0;36mfit\u001b[1;34m(self, X, y, sample_weight, base_margin, eval_set, eval_metric, early_stopping_rounds, verbose, xgb_model, sample_weight_eval_set, callbacks)\u001b[0m\n\u001b[0;32m    502\u001b[0m                                 \u001b[0mbase_margin\u001b[0m\u001b[1;33m=\u001b[0m\u001b[0mbase_margin\u001b[0m\u001b[1;33m,\u001b[0m\u001b[1;33m\u001b[0m\u001b[1;33m\u001b[0m\u001b[0m\n\u001b[0;32m    503\u001b[0m                                 \u001b[0mmissing\u001b[0m\u001b[1;33m=\u001b[0m\u001b[0mself\u001b[0m\u001b[1;33m.\u001b[0m\u001b[0mmissing\u001b[0m\u001b[1;33m,\u001b[0m\u001b[1;33m\u001b[0m\u001b[1;33m\u001b[0m\u001b[0m\n\u001b[1;32m--> 504\u001b[1;33m                                 nthread=self.n_jobs)\n\u001b[0m\u001b[0;32m    505\u001b[0m \u001b[1;33m\u001b[0m\u001b[0m\n\u001b[0;32m    506\u001b[0m         \u001b[0mevals_result\u001b[0m \u001b[1;33m=\u001b[0m \u001b[1;33m{\u001b[0m\u001b[1;33m}\u001b[0m\u001b[1;33m\u001b[0m\u001b[1;33m\u001b[0m\u001b[0m\n",
      "\u001b[1;32m~\\anaconda3\\lib\\site-packages\\xgboost\\core.py\u001b[0m in \u001b[0;36m__init__\u001b[1;34m(self, data, label, weight, base_margin, missing, silent, feature_names, feature_types, nthread)\u001b[0m\n\u001b[0;32m    518\u001b[0m \u001b[1;33m\u001b[0m\u001b[0m\n\u001b[0;32m    519\u001b[0m         data, feature_names, feature_types = _convert_dataframes(\n\u001b[1;32m--> 520\u001b[1;33m             \u001b[0mdata\u001b[0m\u001b[1;33m,\u001b[0m \u001b[0mfeature_names\u001b[0m\u001b[1;33m,\u001b[0m \u001b[0mfeature_types\u001b[0m\u001b[1;33m\u001b[0m\u001b[1;33m\u001b[0m\u001b[0m\n\u001b[0m\u001b[0;32m    521\u001b[0m         )\n\u001b[0;32m    522\u001b[0m         \u001b[0mmissing\u001b[0m \u001b[1;33m=\u001b[0m \u001b[0mmissing\u001b[0m \u001b[1;32mif\u001b[0m \u001b[0mmissing\u001b[0m \u001b[1;32mis\u001b[0m \u001b[1;32mnot\u001b[0m \u001b[1;32mNone\u001b[0m \u001b[1;32melse\u001b[0m \u001b[0mnp\u001b[0m\u001b[1;33m.\u001b[0m\u001b[0mnan\u001b[0m\u001b[1;33m\u001b[0m\u001b[1;33m\u001b[0m\u001b[0m\n",
      "\u001b[1;32m~\\anaconda3\\lib\\site-packages\\xgboost\\core.py\u001b[0m in \u001b[0;36m_convert_dataframes\u001b[1;34m(data, feature_names, feature_types, meta, meta_type)\u001b[0m\n\u001b[0;32m    418\u001b[0m                                                             \u001b[0mfeature_types\u001b[0m\u001b[1;33m,\u001b[0m\u001b[1;33m\u001b[0m\u001b[1;33m\u001b[0m\u001b[0m\n\u001b[0;32m    419\u001b[0m                                                             \u001b[0mmeta\u001b[0m\u001b[1;33m,\u001b[0m\u001b[1;33m\u001b[0m\u001b[1;33m\u001b[0m\u001b[0m\n\u001b[1;32m--> 420\u001b[1;33m                                                             meta_type)\n\u001b[0m\u001b[0;32m    421\u001b[0m \u001b[1;33m\u001b[0m\u001b[0m\n\u001b[0;32m    422\u001b[0m     data, feature_names, feature_types = _maybe_dt_data(data,\n",
      "\u001b[1;32m~\\anaconda3\\lib\\site-packages\\xgboost\\core.py\u001b[0m in \u001b[0;36m_maybe_pandas_data\u001b[1;34m(data, feature_names, feature_types, meta, meta_type)\u001b[0m\n\u001b[0;32m    318\u001b[0m \u001b[1;33m\u001b[0m\u001b[0m\n\u001b[0;32m    319\u001b[0m     \u001b[0mdtype\u001b[0m \u001b[1;33m=\u001b[0m \u001b[0mmeta_type\u001b[0m \u001b[1;32mif\u001b[0m \u001b[0mmeta_type\u001b[0m \u001b[1;32melse\u001b[0m \u001b[1;34m'float'\u001b[0m\u001b[1;33m\u001b[0m\u001b[1;33m\u001b[0m\u001b[0m\n\u001b[1;32m--> 320\u001b[1;33m     \u001b[0mdata\u001b[0m \u001b[1;33m=\u001b[0m \u001b[0mdata\u001b[0m\u001b[1;33m.\u001b[0m\u001b[0mvalues\u001b[0m\u001b[1;33m.\u001b[0m\u001b[0mastype\u001b[0m\u001b[1;33m(\u001b[0m\u001b[0mdtype\u001b[0m\u001b[1;33m)\u001b[0m\u001b[1;33m\u001b[0m\u001b[1;33m\u001b[0m\u001b[0m\n\u001b[0m\u001b[0;32m    321\u001b[0m \u001b[1;33m\u001b[0m\u001b[0m\n\u001b[0;32m    322\u001b[0m     \u001b[1;32mreturn\u001b[0m \u001b[0mdata\u001b[0m\u001b[1;33m,\u001b[0m \u001b[0mfeature_names\u001b[0m\u001b[1;33m,\u001b[0m \u001b[0mfeature_types\u001b[0m\u001b[1;33m\u001b[0m\u001b[1;33m\u001b[0m\u001b[0m\n",
      "\u001b[1;31mMemoryError\u001b[0m: Unable to allocate 322. MiB for an array with shape (440054, 96) and data type float64"
     ]
    }
   ],
   "source": [
    "import optuna\n",
    "from optuna.samplers import TPESampler\n",
    "\n",
    "def create_model(trial):\n",
    "    max_depth = trial.suggest_int(\"max_depth\", 2, 30)\n",
    "    n_estimators = trial.suggest_int(\"n_estimators\", 1, 500)\n",
    "    learning_rate = trial.suggest_uniform('learning_rate', 0.1, 1)\n",
    "    colsample_bytree = trial.suggest_uniform('colsample_bytree', 0.1, 0.9)\n",
    "    #num_leaves = trial.suggest_int(\"num_leaves\", 2, 5000)\n",
    "    #min_child_samples = trial.suggest_int('min_child_samples', 3, 200)\n",
    "    reg_alpha = trial.suggest_int(\"reg_alpha\", 1, 10)\n",
    "    reg_lambda = trial.suggest_int(\"reg_lambda\", 1, 10)\n",
    "    model = XGBRegressor(\n",
    "        learning_rate=learning_rate, \n",
    "        n_estimators=n_estimators, \n",
    "        max_depth=max_depth,\n",
    "        colsample_bytree = colsample_bytree,\n",
    "        #num_leaves=num_leaves, \n",
    "        #min_child_samples=min_child_samples,\n",
    "        random_state=1999,\n",
    "        n_jobs = -1\n",
    "    )\n",
    "    return model\n",
    "\n",
    "sampler = TPESampler(seed=0)\n",
    "def objective(trial):\n",
    "    model = create_model(trial)\n",
    "    model.fit(X_trn, y_trn)\n",
    "    preds = model.predict(X_val)\n",
    "    score = np.sqrt(mean_squared_error(y_val,preds))\n",
    "    return score\n",
    "\n",
    "study = optuna.create_study(direction=\"minimize\", sampler=sampler)\n",
    "study.optimize(objective, n_trials=20)\n",
    "\n",
    "xgb_params = study.best_params\n",
    "xgb_params['random_state'] = 0\n",
    "xgb = XGBRegressor(**xgb_params)\n",
    "xgb.fit(X_trn, y_trn)\n",
    "preds = xgb.predict(X_val)\n",
    "print('Optimized XGBR RMSE', np.sqrt(mean_squared_error(y_val, preds)))"
   ]
  },
  {
   "cell_type": "code",
   "execution_count": null,
   "metadata": {},
   "outputs": [],
   "source": [
    "xgb"
   ]
  },
  {
   "cell_type": "code",
   "execution_count": null,
   "metadata": {},
   "outputs": [],
   "source": [
    "%%time\n",
    "\n",
    "xgb = xgb\n",
    "xgb.fit(X_trn, y_trn)\n",
    "preds = xgb.predict(X_val)\n",
    "rmse = np.sqrt(mean_squared_error(y_val, preds))\n",
    "print(f'RMSE score is: {rmse}')"
   ]
  },
  {
   "cell_type": "code",
   "execution_count": null,
   "metadata": {},
   "outputs": [],
   "source": [
    "# Cross val\n",
    "\n",
    "%%time\n",
    "xgb_fe_oofs, xgb_fe_preds = boosting_cross_val(xgb, train_proc, test_proc, features, 'xgb')\n",
    "sample_sub['Purchase'] = xgb_fe_preds\n",
    "sample_sub.to_csv(r\"D:\\Data Science\\Projects\\Analytics vidya\\Black Friday Sales Prediction\\XGB_FE_Boosting.csv\", index = False)"
   ]
  },
  {
   "cell_type": "code",
   "execution_count": null,
   "metadata": {},
   "outputs": [],
   "source": []
  },
  {
   "cell_type": "code",
   "execution_count": null,
   "metadata": {},
   "outputs": [],
   "source": []
  },
  {
   "cell_type": "markdown",
   "metadata": {},
   "source": [
    "---\n",
    "### Catboost"
   ]
  },
  {
   "cell_type": "code",
   "execution_count": null,
   "metadata": {},
   "outputs": [],
   "source": [
    "num_cols = ['Users_unique_products', 'Products_unique_users', 'Citys_unique_products', 'Age_unique_products', 'Age_unique_users',\n",
    "             'Occupation_unique_products', 'Occupation_unique_users', 'Users_Mean_Purchase', 'Users_Median_Purchase', 'Products_Mean_Purchase',\n",
    "             'Products_Median_Purchase', 'Product_Category_1_Mean_Purchase', 'Product_Category_1_Median_Purchase']\n",
    "\n",
    "cat_cols = [col for col in train_proc.columns if col not in [num_cols, target]]"
   ]
  },
  {
   "cell_type": "code",
   "execution_count": null,
   "metadata": {},
   "outputs": [],
   "source": [
    "%%time\n",
    "cat = CatBoostRegressor(cat_features=cat_cols)\n",
    "cat.fit(X_trn, y_trn)\n",
    "preds = cat.predict(X_val)\n",
    "rmse = np.sqrt(mean_squared_error(y_val, preds))\n",
    "print(f'RMSE score is: {rmse}')"
   ]
  },
  {
   "cell_type": "code",
   "execution_count": null,
   "metadata": {},
   "outputs": [],
   "source": [
    "test_preds = cat.predict(X_test)\n",
    "\n",
    "sample_sub['Purchase'] = test_preds\n",
    "sample_sub.to_csv(r\"D:\\Data Science\\Projects\\Analytics vidya\\Black Friday Sales Prediction\\FE_Boosting.csv\", index = False)"
   ]
  },
  {
   "cell_type": "markdown",
   "metadata": {},
   "source": [
    "#### Hyperparameter Tuning"
   ]
  },
  {
   "cell_type": "code",
   "execution_count": null,
   "metadata": {},
   "outputs": [],
   "source": [
    "import optuna\n",
    "from optuna.samplers import TPESampler\n",
    "\n",
    "def create_model(trial):\n",
    "    max_depth = trial.suggest_int(\"max_depth\", 1, 16)\n",
    "    n_estimators = trial.suggest_int(\"n_estimators\", 500, 1500)\n",
    "    learning_rate = trial.suggest_uniform('learning_rate', 0.1, 1)\n",
    "    rsm = trial.suggest_uniform('rsm', 0.1, 0.99)\n",
    "    #num_leaves = trial.suggest_int(\"num_leaves\", 2, 5000)\n",
    "    #min_child_samples = trial.suggest_int('min_child_samples', 3, 200)\n",
    "    reg_alpha = trial.suggest_int(\"reg_alpha\", 1, 10)\n",
    "    reg_lambda = trial.suggest_int(\"reg_lambda\", 1, 10)\n",
    "    model = CatBoostRegressor(\n",
    "        learning_rate=learning_rate, \n",
    "        n_estimators=n_estimators, \n",
    "        max_depth=max_depth,\n",
    "        rsm = rsm,\n",
    "        #num_leaves=num_leaves, \n",
    "        #min_child_samples=min_child_samples,\n",
    "        random_state=0,\n",
    "        cat_features=cat_cols,\n",
    "        verbose = False\n",
    "    )\n",
    "    return model\n",
    "\n",
    "sampler = TPESampler(seed=0)\n",
    "def objective(trial):\n",
    "    model = create_model(trial)\n",
    "    model.fit(X_trn, y_trn)\n",
    "    preds = model.predict(X_val)\n",
    "    score = np.sqrt(mean_squared_error(y_val,preds))\n",
    "    return score\n",
    "\n",
    "study = optuna.create_study(direction=\"minimize\", sampler=sampler)\n",
    "study.optimize(objective, n_trials=20)\n",
    "\n",
    "cat_params = study.best_params\n",
    "cat_params['random_state'] = 0\n",
    "cat = CatBoostRegressor(**cat_params, verbose = False)\n",
    "cat.fit(X_trn, y_trn)\n",
    "preds = cat.predict(X_val)\n",
    "print('Optimized Catboost RMSE', np.sqrt(mean_squared_error(y_val, preds)))"
   ]
  },
  {
   "cell_type": "code",
   "execution_count": null,
   "metadata": {},
   "outputs": [],
   "source": [
    "cat"
   ]
  },
  {
   "cell_type": "code",
   "execution_count": null,
   "metadata": {},
   "outputs": [],
   "source": [
    "%%time\n",
    "\n",
    "cat = cat\n",
    "cat.fit(X_trn, y_trn)\n",
    "preds = cat.predict(X_val)\n",
    "rmse = np.sqrt(mean_squared_error(y_val, preds))\n",
    "print(f'RMSE score is: {rmse}')"
   ]
  },
  {
   "cell_type": "code",
   "execution_count": null,
   "metadata": {},
   "outputs": [],
   "source": [
    "# Cross val\n",
    "\n",
    "%%time\n",
    "cat_fe_oofs, cat_fe_preds = boosting_cross_val(cat, train_proc, test_proc, features, 'cat')\n",
    "sample_sub['Purchase'] = cat_fe_preds\n",
    "sample_sub.to_csv(r\"D:\\Data Science\\Projects\\Analytics vidya\\Black Friday Sales Prediction\\CAT_FE_Boosting.csv\", index = False)"
   ]
  },
  {
   "cell_type": "markdown",
   "metadata": {},
   "source": [
    "---\n",
    "# Ensembling"
   ]
  },
  {
   "cell_type": "code",
   "execution_count": null,
   "metadata": {},
   "outputs": [],
   "source": [
    "train_new = train_proc[[target, 'User_ID']].copy()\n",
    "test_new = test_proc[[target, 'User_ID']].copy()\n",
    "\n",
    "train_new['lgb'] = lgb_fe_oofs\n",
    "test_new['lgb'] = lgb_fe_preds\n",
    "\n",
    "train_new['cb'] = cat_fe_oofs\n",
    "test_new['cb'] = cat_fe_preds\n",
    "\n",
    "train_new['xgb'] = xgb_fe_oofs\n",
    "test_new['xgb'] = xgb_fe_preds\n",
    "\n",
    "ens_features = [c for c in train_new.columns if c not in [target, 'User_ID']]"
   ]
  },
  {
   "cell_type": "code",
   "execution_count": null,
   "metadata": {},
   "outputs": [],
   "source": [
    "from sklearn.linear_model import LinearRegression\n",
    "clf = LinearRegression()\n",
    "\n",
    "ens_oofs, ens_preds = cross_val(clf, train_new, test_new, ens_features)"
   ]
  },
  {
   "cell_type": "code",
   "execution_count": null,
   "metadata": {},
   "outputs": [],
   "source": [
    "sample_sub['Purchase'] = ens_preds\n",
    "sample_sub.to_csv(r\"D:\\Data Science\\Projects\\Analytics vidya\\Black Friday Sales Prediction\\Ensemble.csv\", index = False)"
   ]
  },
  {
   "cell_type": "code",
   "execution_count": null,
   "metadata": {},
   "outputs": [],
   "source": []
  },
  {
   "cell_type": "code",
   "execution_count": null,
   "metadata": {},
   "outputs": [],
   "source": []
  },
  {
   "cell_type": "code",
   "execution_count": null,
   "metadata": {},
   "outputs": [],
   "source": []
  },
  {
   "cell_type": "code",
   "execution_count": null,
   "metadata": {},
   "outputs": [],
   "source": []
  },
  {
   "cell_type": "code",
   "execution_count": null,
   "metadata": {},
   "outputs": [],
   "source": []
  },
  {
   "cell_type": "code",
   "execution_count": null,
   "metadata": {},
   "outputs": [],
   "source": []
  },
  {
   "cell_type": "code",
   "execution_count": null,
   "metadata": {},
   "outputs": [],
   "source": []
  },
  {
   "cell_type": "code",
   "execution_count": null,
   "metadata": {},
   "outputs": [],
   "source": []
  },
  {
   "cell_type": "code",
   "execution_count": null,
   "metadata": {},
   "outputs": [],
   "source": []
  },
  {
   "cell_type": "code",
   "execution_count": null,
   "metadata": {},
   "outputs": [],
   "source": []
  },
  {
   "cell_type": "code",
   "execution_count": null,
   "metadata": {},
   "outputs": [],
   "source": []
  }
 ],
 "metadata": {
  "kernelspec": {
   "display_name": "Python 3",
   "language": "python",
   "name": "python3"
  },
  "language_info": {
   "codemirror_mode": {
    "name": "ipython",
    "version": 3
   },
   "file_extension": ".py",
   "mimetype": "text/x-python",
   "name": "python",
   "nbconvert_exporter": "python",
   "pygments_lexer": "ipython3",
   "version": "3.7.6"
  }
 },
 "nbformat": 4,
 "nbformat_minor": 4
}
